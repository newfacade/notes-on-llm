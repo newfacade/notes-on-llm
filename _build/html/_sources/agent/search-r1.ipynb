{
 "cells": [
  {
   "cell_type": "markdown",
   "id": "f92facfb-4f82-4d24-b038-2a49985a9a8e",
   "metadata": {},
   "source": [
    "# Search-R1"
   ]
  },
  {
   "cell_type": "code",
   "execution_count": null,
   "id": "d1362f15-9a4b-445a-aa56-d1ca5af905b7",
   "metadata": {},
   "outputs": [],
   "source": []
  }
 ],
 "metadata": {
  "kernelspec": {
   "display_name": "Python 3 (ipykernel)",
   "language": "python",
   "name": "python3"
  },
  "language_info": {
   "codemirror_mode": {
    "name": "ipython",
    "version": 3
   },
   "file_extension": ".py",
   "mimetype": "text/x-python",
   "name": "python",
   "nbconvert_exporter": "python",
   "pygments_lexer": "ipython3",
   "version": "3.12.2"
  }
 },
 "nbformat": 4,
 "nbformat_minor": 5
}
