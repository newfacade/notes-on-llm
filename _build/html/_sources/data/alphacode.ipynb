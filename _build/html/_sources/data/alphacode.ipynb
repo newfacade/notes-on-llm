{
 "cells": [
  {
   "cell_type": "markdown",
   "id": "4a7370b3-3157-4aa6-8ec9-931f09879438",
   "metadata": {},
   "source": [
    "# AlphaCode"
   ]
  },
  {
   "cell_type": "markdown",
   "id": "ecd4d8f7-a729-42fa-9f96-0192b4b1bc39",
   "metadata": {},
   "source": [
    "## CodeContests fine-tuning dataset\n",
    "\n",
    "We curated a new dataset of competitive programming\n",
    "problems, named CodeContests. The dataset includes problems, solutions and test cases we scraped\n",
    "from the Codeforces platform, along with existing data from Description2Code and CodeNet. The validation and test splits of the dataset consist entirely of newly scraped Codeforces problems.\n",
    "\n",
    "To guard against data leakage, we adopted a strict temporal split: all\n",
    "pre-training and fine-tuning training data appeared online before any validation problems, and all\n",
    "validation problems before test ones."
   ]
  },
  {
   "cell_type": "code",
   "execution_count": null,
   "id": "c3e32e78-b773-4bf6-84ce-8f4fe291804b",
   "metadata": {},
   "outputs": [],
   "source": []
  }
 ],
 "metadata": {
  "kernelspec": {
   "display_name": "Python 3 (ipykernel)",
   "language": "python",
   "name": "python3"
  },
  "language_info": {
   "codemirror_mode": {
    "name": "ipython",
    "version": 3
   },
   "file_extension": ".py",
   "mimetype": "text/x-python",
   "name": "python",
   "nbconvert_exporter": "python",
   "pygments_lexer": "ipython3",
   "version": "3.12.2"
  }
 },
 "nbformat": 4,
 "nbformat_minor": 5
}
