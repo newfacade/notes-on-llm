{
 "cells": [
  {
   "cell_type": "markdown",
   "id": "60f4bbb7-bf55-453a-82ba-3b3017d51450",
   "metadata": {},
   "source": [
    "# RS-DPO\n",
    "\n",
    "![](../images/rs-dpo.png)\n",
    "\n",
    "1. Supervised Fine-Tuning (SFT).\n",
    "2. Reward Model Training (RM) using a preference dataset $\\mathcal{D}_{\\mathrm{RM}} = \\{(x_1,y_{1l},y_{1w},\\dots,(x_n,y_{nl},y_{nw})\\}$ (human assessment).\n",
    "3. Preference Data Generation via Rejection Sampling.\n",
    "   1. For each prompt in $\\mathcal{D}_{\\mathrm{RM}}$, sample $k$ responses from the SFT model.\n",
    "   2. Evaluate the quality of each response using our trained reward model $R(x,y)$.\n",
    "   3. Finally, we compute the reward gap for all possible pairwise combinations of responses per prompt, if the reward gap surpasses a predefined threshold, we include the pair of responses in our synthetic preference dataset.\n",
    "4. Direct Preference Optimization (DPO)."
   ]
  },
  {
   "cell_type": "code",
   "execution_count": null,
   "id": "34159b3f-6e76-4eff-9638-4ba87f5a6ac1",
   "metadata": {},
   "outputs": [],
   "source": []
  }
 ],
 "metadata": {
  "kernelspec": {
   "display_name": "Python 3 (ipykernel)",
   "language": "python",
   "name": "python3"
  },
  "language_info": {
   "codemirror_mode": {
    "name": "ipython",
    "version": 3
   },
   "file_extension": ".py",
   "mimetype": "text/x-python",
   "name": "python",
   "nbconvert_exporter": "python",
   "pygments_lexer": "ipython3",
   "version": "3.12.2"
  }
 },
 "nbformat": 4,
 "nbformat_minor": 5
}
