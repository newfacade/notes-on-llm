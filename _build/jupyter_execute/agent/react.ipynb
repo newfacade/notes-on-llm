{
 "cells": [
  {
   "cell_type": "markdown",
   "id": "d5f84d26-fc3c-4791-9a86-4ba2fa2cfad1",
   "metadata": {},
   "source": [
    "# REACT\n",
    "\n",
    "```{note}\n",
    "[ReAct](https://arxiv.org/abs/2402.01030) integrates reasoning and acting within LLM by extending the action space to be a combination of task-specific discrete actions and the language space. The former enables LLM to interact with the environment (e.g. use Wikipedia search API), while the latter prompting LLM to generate reasoning traces in natural language.\n",
    "```\n",
    "\n",
    "The [ReAct prompt template](https://lilianweng.github.io/posts/2023-06-23-agent/) incorporates explicit steps for LLM to think, roughly formatted as:\n",
    "\n",
    "```\n",
    "Thought: ...\n",
    "Action: ...\n",
    "Observation: ...\n",
    "... (Repeated many times)\n",
    "```\n",
    "\n",
    "```{figure} ../images/react1.png\n",
    "```"
   ]
  },
  {
   "cell_type": "code",
   "execution_count": null,
   "id": "f430de24-d7d0-43c1-9de5-102596d79d56",
   "metadata": {},
   "outputs": [],
   "source": []
  }
 ],
 "metadata": {
  "kernelspec": {
   "display_name": "Python 3 (ipykernel)",
   "language": "python",
   "name": "python3"
  },
  "language_info": {
   "codemirror_mode": {
    "name": "ipython",
    "version": 3
   },
   "file_extension": ".py",
   "mimetype": "text/x-python",
   "name": "python",
   "nbconvert_exporter": "python",
   "pygments_lexer": "ipython3",
   "version": "3.12.2"
  }
 },
 "nbformat": 4,
 "nbformat_minor": 5
}