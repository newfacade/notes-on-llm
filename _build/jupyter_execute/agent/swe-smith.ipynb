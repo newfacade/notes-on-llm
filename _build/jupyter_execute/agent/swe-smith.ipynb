{
 "cells": [
  {
   "cell_type": "markdown",
   "id": "1869a628-3d64-4e18-92a5-6753e0f81c5b",
   "metadata": {},
   "source": [
    "# SWE-smith\n",
    "\n",
    "```{note}\n",
    "Despite recent progress in Language Models (LMs) for software engineering,\n",
    "collecting training data remains a significant pain point.<br>\n",
    "To address this pain point, we introduce\n",
    "[SWE-smith](https://github.com/SWE-bench/SWE-smith), a novel pipeline for generating software engineering\n",
    "training data at scale. Given any Python codebase, SWE-smith constructs a\n",
    "corresponding execution environment, then automatically synthesizes 100s\n",
    "to 1,000s of task instances that break existing test(s) in the codebase.\n",
    "```\n",
    "\n",
    "```{figure} ../images/swe-smith1.png\n",
    "```"
   ]
  },
  {
   "cell_type": "markdown",
   "id": "a77432f1-bf00-49aa-a591-bb2a173c56c5",
   "metadata": {},
   "source": [
    "## SWE-smith: Software Task Generation at Scale\n",
    "\n",
    "**Building execution environments for repositories with passing tests.** Given a repository,\n",
    "we run SWE-agent on the latest commit for at most 100 steps, instructing\n",
    "it to install the codebase and run the test suite. We then manually verify the installation\n",
    "and testing instructions, check if more than 80% of existing tests pass, and finally create\n",
    "a Docker image for the repository.\n",
    "\n",
    "**Creating task instance candidates.** we employ four different strategies to\n",
    "create candidates\n",
    "\n",
    "* **LM Generation:** Per repository, we identify all programmatic entities (functions, classes),\n",
    "then take two approaches: (1) provide anLM with the function and prompt it to introduce\n",
    "errant modifications (henceforth referred to as “LM Modify”), and (2) given only the\n",
    "function header and docstring, ask the LM to rewrite it (“LM Rewrite”).\n",
    "\n",
    "* **Procedural Modification:** Per function, we acquire an abstract syntax tree (AST) representation\n",
    "of the code, then randomly perform one or more transformations.\n",
    "\n",
    "* **Combine Bugs:** To create more complex tasks that require editing multiple\n",
    "portions of the codebase, we devise a “Patch Combination” strategy that creates a task\n",
    "instance by aggregating candidates from the same file(s) or module(s).\n",
    "\n",
    "* **Invert PRs:** Per repository, we collect all PRs that modify Python files.\n",
    "Per PR, we attempt to undo its revisions in the current version of the repository.\n",
    "\n",
    "```{figure} ../images/swe-smith2.png\n",
    "```\n",
    "\n",
    "**Execution-based validation of candidates.** We apply each candidate patch to the corresponding\n",
    "repository, run the test suite, and only keep patches that break one or more\n",
    "existing, passing tests (referred to as Fail-to-Pass or F2P test(s)).\n",
    "\n",
    "**Generating problem statements.** Per task instance, we provide\n",
    "an LM with the .diff patch, source code of a random F2P test, and execution output from\n",
    "running the repository’s test suite with the bug patch applied. We prompt the LM for\n",
    "GitHub issue-style text that includes reproduction code based on the F2P test.\n",
    "\n",
    "```{tip}\n",
    "Using\n",
    "SWE-smith, we create a dataset of 50k instances sourced from 128 GitHub\n",
    "repositories, an order of magnitude larger than all previous works. We train\n",
    "SWE-agent-LM-32B, achieving 40.2% Pass@1 resolve rate on the SWE-bench\n",
    "Verified benchmark, state of the art among open source models.\n",
    "```"
   ]
  },
  {
   "cell_type": "code",
   "execution_count": null,
   "id": "2636ca3a-5bc4-4834-a9ec-f036d2e08da7",
   "metadata": {},
   "outputs": [],
   "source": []
  }
 ],
 "metadata": {
  "kernelspec": {
   "display_name": "Python 3 (ipykernel)",
   "language": "python",
   "name": "python3"
  },
  "language_info": {
   "codemirror_mode": {
    "name": "ipython",
    "version": 3
   },
   "file_extension": ".py",
   "mimetype": "text/x-python",
   "name": "python",
   "nbconvert_exporter": "python",
   "pygments_lexer": "ipython3",
   "version": "3.12.2"
  }
 },
 "nbformat": 4,
 "nbformat_minor": 5
}