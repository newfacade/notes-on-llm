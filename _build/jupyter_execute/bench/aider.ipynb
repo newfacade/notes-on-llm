{
 "cells": [
  {
   "cell_type": "markdown",
   "id": "11ff97b1-0c66-42cc-9c20-212343a44770",
   "metadata": {},
   "source": [
    "# Aider Polyglot"
   ]
  },
  {
   "cell_type": "code",
   "execution_count": null,
   "id": "eaf649d4-2a87-4966-9d75-8614755cc997",
   "metadata": {},
   "outputs": [],
   "source": []
  }
 ],
 "metadata": {
  "kernelspec": {
   "display_name": "Python 3 (ipykernel)",
   "language": "python",
   "name": "python3"
  },
  "language_info": {
   "codemirror_mode": {
    "name": "ipython",
    "version": 3
   },
   "file_extension": ".py",
   "mimetype": "text/x-python",
   "name": "python",
   "nbconvert_exporter": "python",
   "pygments_lexer": "ipython3",
   "version": "3.12.2"
  }
 },
 "nbformat": 4,
 "nbformat_minor": 5
}