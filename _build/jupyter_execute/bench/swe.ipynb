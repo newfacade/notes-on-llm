{
 "cells": [
  {
   "cell_type": "markdown",
   "id": "f5bced00-7085-405a-90ec-5138acb6db5d",
   "metadata": {},
   "source": [
    "# SWE-bench\n",
    "\n",
    "```{note}\n",
    "[SWE-bench](https://github.com/SWE-bench/SWE-bench) is a benchmark for evaluating large language models on real world software issues collected from GitHub. Given a codebase and an issue, a language model is tasked with generating a patch that resolves the described problem.\n",
    "```\n",
    "```{figure} ../images/swe1.png\n",
    "```"
   ]
  },
  {
   "cell_type": "markdown",
   "id": "fba66687-3ed5-4d5b-a3c0-a57f67824bed",
   "metadata": {},
   "source": [
    "## SWE-bench\n",
    "\n",
    "### Benchmark Construction\n",
    "\n",
    "To find high-quality task instances at scale,\n",
    "we use a 3-stage pipeline as follows.\n",
    "\n",
    "1. **Repo selection and data scraping.** We start by collecting pull requests (PRs) from 12\n",
    "popular open-source Python repositories on GitHub, producing about ∼ 90,000 PRs in total.\n",
    "\n",
    "2. **Attribute-based filtering.** We create candidate tasks by selecting the `merged` PRs that (1)\n",
    "resolve a GitHub issue and (2) make changes to the test files of the repository.\n",
    "\n",
    "3. **Execution-based filtering.** We filter out task\n",
    "instances without at least one test where its status changes from a fail to pass.\n",
    "\n",
    "```{figure} ../images/swe2.png\n",
    "```\n",
    "\n",
    "### Features of Swe-Bench\n",
    "\n",
    "* Real-world software engineering tasks.\n",
    "* Continually updatable.\n",
    "* Diverse long inputs.\n",
    "* Robust evaluation.\n",
    "* Cross-context code editing.\n",
    "* Wide scope for possible solutions.\n",
    "\n",
    "### SWE-bench Lite\n",
    "\n",
    "To encourage adoption of SWE-bench, we create a Lite subset of 300 instances from SWE-bench\n",
    "that have been sampled to be more self-contained, with a focus on evaluating functional bug fixes."
   ]
  },
  {
   "cell_type": "markdown",
   "id": "dbfbf801-05f5-4db3-80cc-a73170fc5731",
   "metadata": {},
   "source": [
    "## SWE-Llama: Fine-Tuning Codellama for SWE-bench\n",
    "\n",
    "**Training data.** We follow our data collection procedure and collect 19,000 issue-PR pairs from an\n",
    "additional 37 popular Python package repositories. We `do not` require\n",
    "that pull requests contribute test changes. This allows us to create a much larger training set to use\n",
    "for supervised fine-tuning. To eliminate the risk of data contamination, the set of repositories in the\n",
    "training data is disjoint from those included in the evaluation benchmark."
   ]
  },
  {
   "cell_type": "markdown",
   "id": "eb945c47-4130-4003-a9bd-5f92bbf9d71f",
   "metadata": {},
   "source": [
    "## Experimental Setup\n",
    "\n",
    "### Retrieval-Based Approach\n",
    "\n",
    "SWE-bench instances provide an issue description and a codebase as input to the model. While\n",
    "issues descriptions are usually short (195 words on average), codebases consist\n",
    "of many more tokens (438K lines on average) than can typically be fit into an LMs context window.\n",
    "Then the question remains of exactly how to choose the relevant context to provide to the model?\n",
    "\n",
    "**Sparse retrieval.** We choose to use BM25 retrieval to retrieve relevant files\n",
    "to provide as context for each task instance.\n",
    "\n",
    "**“Oracle” retrieval.** For analysis purposes we also consider a setting where we “retrieve” the files\n",
    "edited by the reference patch that solved the issue on GitHub.\n",
    "\n",
    "### Input Format\n",
    "\n",
    "Once the retrieved files are selected using one of the two methods above, we construct the input\n",
    "to the model consisting of task instructions, the issue text, retrieved files and documentation, and\n",
    "finally an example patch file and prompt for generating the patch file."
   ]
  },
  {
   "cell_type": "markdown",
   "id": "16191084-2fc0-407e-81a2-110bb231040f",
   "metadata": {},
   "source": [
    "## Results\n",
    "\n",
    "```{figure} ../images/swe3.png\n",
    "```"
   ]
  },
  {
   "cell_type": "code",
   "execution_count": null,
   "id": "b88edf85-5c7f-48cd-95f5-d59f75c0c4c4",
   "metadata": {},
   "outputs": [],
   "source": []
  }
 ],
 "metadata": {
  "kernelspec": {
   "display_name": "Python 3 (ipykernel)",
   "language": "python",
   "name": "python3"
  },
  "language_info": {
   "codemirror_mode": {
    "name": "ipython",
    "version": 3
   },
   "file_extension": ".py",
   "mimetype": "text/x-python",
   "name": "python",
   "nbconvert_exporter": "python",
   "pygments_lexer": "ipython3",
   "version": "3.12.2"
  }
 },
 "nbformat": 4,
 "nbformat_minor": 5
}