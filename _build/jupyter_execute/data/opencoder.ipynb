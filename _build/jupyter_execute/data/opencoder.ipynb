{
 "cells": [
  {
   "cell_type": "markdown",
   "id": "24b088ef-c890-4671-a40f-8ea023e410d9",
   "metadata": {},
   "source": [
    "# OpenCoder\n",
    "\n",
    "```{note}\n",
    "We introduce Open-Coder, a top-tier code LLM that not only achieves performance comparable to\n",
    "leading models but also serves as an “open cookbook” for the research community.\n",
    "Unlike most prior efforts, we release not only model weights and inference\n",
    "code, but also the reproducible training data, complete data processing pipeline,\n",
    "rigorous experimental ablation results, and detailed training protocols for open\n",
    "scientific research.<br/>\n",
    "Our key design choices for data curation:\n",
    "1. During the pretraining phase, the importance of data cleaning is highlighted.\n",
    "2. The impact of deduplication is significant, with file-level deduplication proving to be more effective than repository-level deduplication.\n",
    "3. Filtering data based on Github star count can possibly reduce data diversity\n",
    "and affect the overall data distribution, contributing to a suboptimal result.\n",
    "4. In the annealing phase, the use of high-quality data is crucial for further enhancing the model’s\n",
    "capabilities.\n",
    "5. During the instruction tuning phase, a two-stage instruction tuning strategy\n",
    "is shown to be effective.\n",
    "```\n",
    "\n",
    "```{figure} ../images/opencoder-1.png\n",
    "```"
   ]
  },
  {
   "cell_type": "markdown",
   "id": "f296101f-82c0-4181-8ee7-c06fb6a43e8a",
   "metadata": {},
   "source": [
    "## Pretraining Data"
   ]
  },
  {
   "cell_type": "markdown",
   "id": "b359333d-43ee-4ded-9b14-7858167514ed",
   "metadata": {},
   "source": [
    "## Pretraining"
   ]
  },
  {
   "cell_type": "markdown",
   "id": "ce0aa533-9627-449b-86a9-bce78483e02a",
   "metadata": {},
   "source": [
    "## Post Training\n",
    "\n",
    "### Data Composition\n",
    "\n",
    "**Open-source Training Data** To enhance the model training, we collect the open-source instruction\n",
    "corpora from the websites, including [Evol-Instruct](https://huggingface.co/datasets/theblackcat102/evol-codealpaca-v1), [Infinity-Instruct](https://huggingface.co/datasets/BAAI/Infinity-Instruct),  [McEval](https://huggingface.co/datasets/Multilingual-Multimodal-NLP/McEval-Instruct). Additionally, we sample real user queries from [WildChat-1M](https://huggingface.co/datasets/allenai/WildChat-1M) and [Code-290k-ShareGPT](https://huggingface.co/datasets/cognitivecomputations/Code-290k-ShareGPT-Vicuna). For low-quality responses, we employ a robust LLM to regenerate the content, enhancing the overall data quality.\n",
    "\n",
    "**Educational Instruction Synthesis** In synthesizing instruction-tuning datasets\n",
    "for Python code, we enhance the effectiveness of Magicoder{cite}`wei2024magicoderempoweringcodegeneration`. Specifically, we observe that the educational value of the synthesized data `largely depends on the quality of the seed data`. Our approach:\n",
    "1. Using only high-quality seed data.\n",
    "2. Use a teacher model to generate multiple test cases for the code sections in each problem. These test cases\n",
    "are appended to the code snippets and executed using a Python interpreter. Only the data samples\n",
    "that successfully pass the tests are retained.\n",
    "\n",
    "**Package-related Instruction Synthesis** Due to a significant amount of outdated package usage in\n",
    "the pre-training data, LLM may sometimes employ methods from older versions of libraries when\n",
    "generating code. To mitigate this:\n",
    "1. Analyzed commonly used external Python libraries and retrieved API signatures and usage examples via PyDoc.\n",
    "2. This information was sent to prompt a teacher model that generated accurate and up-to-date question-answer pairs reflecting current usage\n",
    "\n",
    "**Large-scale Diverse Instruction Synthesis** To\n",
    "increase the diversity of the instruction dataset:\n",
    "1. An LLM is used first to clean the irrelevant context in the websites and select useful sentences as the seed for further question generation.\n",
    "2. A task specification module defines programming languages, difficulty levels, and coding task\n",
    "types. The prompt engineering component employs a template-based system to generate diverse, contextually rich prompts, incorporating realworld\n",
    "scenarios and best practices in software development. We set temperature $T = 1.0$ for diverse\n",
    "questions.\n",
    "3. An advanced LLM with more parameters first generates the created questions and\n",
    "then generates the corresponding answers. The validation module combines automated code execution\n",
    "and unit testing to check the correctness.\n",
    "\n",
    "```{caution}\n",
    "Teacher model needed.\n",
    "```\n",
    "\n",
    "### Two-stage Instruction-Tuning\n",
    "\n",
    "The first stage of this fine-tuning process focused on synthesizing question-answer (QA) pairs related\n",
    "to theoretical computer science. In the second stage of the fine-tuning process, we shifted focus from theoretical knowledge to practical\n",
    "coding tasks.\n",
    "\n",
    "```{figure} ../images/opencoder-2.png\n",
    "---\n",
    "height: 300px\n",
    "---\n",
    "```\n",
    "\n",
    "### Training Details\n",
    "\n",
    "In the first stage of SFT, we trained for one epoch with a batch size of 4096, a learning rate (LR) of\n",
    "2e-5, warmup steps set to 100, and a cosine learning rate scheduler.In the second stage of SFT, we\n",
    "trained for three epochs using a batch size of 512, a learning rate of 5e-5, with 100 warmup steps,\n",
    "and the same cosine learning rate scheduler.\n",
    "\n",
    "### Decontamination\n",
    "\n",
    "We removed any data containing\n",
    "the entry points corresponding to test sets such as HumanEval and MBPP. Additionally, we performed 10-gram deduplication, removing any data with a 10-gram overlap with the test sets."
   ]
  },
  {
   "cell_type": "code",
   "execution_count": null,
   "id": "6738550a-e737-477e-a920-1300216b4946",
   "metadata": {},
   "outputs": [],
   "source": []
  }
 ],
 "metadata": {
  "kernelspec": {
   "display_name": "Python 3 (ipykernel)",
   "language": "python",
   "name": "python3"
  },
  "language_info": {
   "codemirror_mode": {
    "name": "ipython",
    "version": 3
   },
   "file_extension": ".py",
   "mimetype": "text/x-python",
   "name": "python",
   "nbconvert_exporter": "python",
   "pygments_lexer": "ipython3",
   "version": "3.12.2"
  }
 },
 "nbformat": 4,
 "nbformat_minor": 5
}