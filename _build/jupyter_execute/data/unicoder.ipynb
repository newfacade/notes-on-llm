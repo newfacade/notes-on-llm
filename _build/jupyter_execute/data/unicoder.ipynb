{
 "cells": [
  {
   "cell_type": "markdown",
   "id": "f9ab9f7a-8f4f-44c0-b2a5-89cf7ba9f0bb",
   "metadata": {},
   "source": [
    "# UNICODER\n",
    "\n",
    "```{note}\n",
    "In this work, we\n",
    "introduce the universal code (UniCode{cite}`sun2024unicoderscalingcodelarge`) as the\n",
    "intermediate representation (pseudocode description) between question and answer.<br>\n",
    "The alignment between the intermediate\n",
    "universal code representation and\n",
    "the final code solution significantly improves\n",
    "the quality of the generated code.\n",
    "```\n",
    "\n",
    "```{figure} ../images/unicoder-1.png\n",
    "---\n",
    "height: 500px\n",
    "---\n",
    "```"
   ]
  },
  {
   "cell_type": "markdown",
   "id": "f496d134-1eba-47f6-8cc8-21beed25b21d",
   "metadata": {},
   "source": [
    "## UNICODER-INSTRUCT\n",
    "\n",
    "**Definition of Universal Code.**\n",
    "\n",
    "```{figure} ../images/unicoder-2.png\n",
    "---\n",
    "height: 500px\n",
    "---\n",
    "```\n",
    "\n",
    "**Construction From Instruction Dataset.**\n",
    "\n",
    "```{figure} ../images/unicoder-3.png\n",
    "---\n",
    "height: 500px\n",
    "---\n",
    "```\n",
    "\n",
    "Generating the instruction dataset $D_{u} = \\{q_i, a_i, p_i\\}_{i=1}^{n}$ where $q,a,p$ denote question, answer and unicode."
   ]
  },
  {
   "cell_type": "markdown",
   "id": "2dfb3780-0ac2-435e-ac6a-34ad8f7b6e6e",
   "metadata": {},
   "source": [
    "## UNICODER\n",
    "\n",
    "To fully unleash the potential of the UniCode, we\n",
    "design multiple objectives to enhance the understanding\n",
    "and generation capability of code LLM.\n",
    "\n",
    "$$\n",
    "\\mathcal{L}_{all} = \\mathcal{L}_{qa} + \\mathcal{L}_{pq} + \\mathcal{L}_{pa} + \\mathcal{L}_{qpa}\n",
    "$$\n",
    "\n",
    "* qa: question $\\to$ answer\n",
    "* pq: question $\\to$ unicode\n",
    "* pa: unicode $\\to$ answer\n",
    "* qpa: question $\\to$ unicode, answer"
   ]
  },
  {
   "cell_type": "code",
   "execution_count": null,
   "id": "a37e24c0-e87a-4152-9b2c-45ea697f422f",
   "metadata": {},
   "outputs": [],
   "source": []
  }
 ],
 "metadata": {
  "kernelspec": {
   "display_name": "Python 3 (ipykernel)",
   "language": "python",
   "name": "python3"
  },
  "language_info": {
   "codemirror_mode": {
    "name": "ipython",
    "version": 3
   },
   "file_extension": ".py",
   "mimetype": "text/x-python",
   "name": "python",
   "nbconvert_exporter": "python",
   "pygments_lexer": "ipython3",
   "version": "3.12.2"
  }
 },
 "nbformat": 4,
 "nbformat_minor": 5
}