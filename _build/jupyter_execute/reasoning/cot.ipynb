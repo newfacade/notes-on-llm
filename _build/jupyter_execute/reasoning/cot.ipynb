{
 "cells": [
  {
   "cell_type": "markdown",
   "id": "30df2883-991b-46cd-85b2-b5da00fe4641",
   "metadata": {},
   "source": [
    "# Chain-of-Thought Prompting Elicits Reasoning in Large Language Models\n",
    "\n",
    "```{note}\n",
    "We explore how generating a `chain of thought`—a series of intermediate reasoning\n",
    "steps—significantly improves the ability of large language models to perform\n",
    "complex reasoning. In particular, we show how such reasoning abilities emerge\n",
    "naturally in sufficiently large language models via a simple method called `chain-ofthought\n",
    "prompting`, where a few chain of thought demonstrations are provided as\n",
    "exemplars in prompting.\n",
    "```\n",
    "\n",
    "![](../images/cot1.png)"
   ]
  },
  {
   "cell_type": "code",
   "execution_count": null,
   "id": "22d348e9-3336-4e1a-8a55-648ed5785b3d",
   "metadata": {},
   "outputs": [],
   "source": []
  }
 ],
 "metadata": {
  "kernelspec": {
   "display_name": "Python 3 (ipykernel)",
   "language": "python",
   "name": "python3"
  },
  "language_info": {
   "codemirror_mode": {
    "name": "ipython",
    "version": 3
   },
   "file_extension": ".py",
   "mimetype": "text/x-python",
   "name": "python",
   "nbconvert_exporter": "python",
   "pygments_lexer": "ipython3",
   "version": "3.12.2"
  }
 },
 "nbformat": 4,
 "nbformat_minor": 5
}