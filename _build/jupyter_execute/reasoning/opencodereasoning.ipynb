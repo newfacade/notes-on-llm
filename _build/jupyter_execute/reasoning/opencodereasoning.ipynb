{
 "cells": [
  {
   "cell_type": "markdown",
   "id": "6544a846-f672-4e32-9349-2fcce2b5f7f0",
   "metadata": {},
   "source": [
    "# OpenCodeReasoning"
   ]
  },
  {
   "cell_type": "code",
   "execution_count": null,
   "id": "8123022b-5bde-4c63-9b8a-72f8abca3ac0",
   "metadata": {},
   "outputs": [],
   "source": []
  }
 ],
 "metadata": {
  "kernelspec": {
   "display_name": "Python 3 (ipykernel)",
   "language": "python",
   "name": "python3"
  },
  "language_info": {
   "codemirror_mode": {
    "name": "ipython",
    "version": 3
   },
   "file_extension": ".py",
   "mimetype": "text/x-python",
   "name": "python",
   "nbconvert_exporter": "python",
   "pygments_lexer": "ipython3",
   "version": "3.12.2"
  }
 },
 "nbformat": 4,
 "nbformat_minor": 5
}