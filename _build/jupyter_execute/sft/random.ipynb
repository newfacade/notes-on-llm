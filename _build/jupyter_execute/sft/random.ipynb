{
 "cells": [
  {
   "cell_type": "markdown",
   "id": "e8406e0d-44d9-4eca-9db6-afc644625172",
   "metadata": {},
   "source": [
    "# RETHINKING DATA SELECTION AT SCALE: RANDOM SELECTION IS ALMOST ALL YOU NEED"
   ]
  },
  {
   "cell_type": "code",
   "execution_count": null,
   "id": "c5b84051-690e-4a2d-a770-54db852f1a06",
   "metadata": {},
   "outputs": [],
   "source": []
  }
 ],
 "metadata": {
  "kernelspec": {
   "display_name": "Python 3 (ipykernel)",
   "language": "python",
   "name": "python3"
  },
  "language_info": {
   "codemirror_mode": {
    "name": "ipython",
    "version": 3
   },
   "file_extension": ".py",
   "mimetype": "text/x-python",
   "name": "python",
   "nbconvert_exporter": "python",
   "pygments_lexer": "ipython3",
   "version": "3.12.2"
  }
 },
 "nbformat": 4,
 "nbformat_minor": 5
}