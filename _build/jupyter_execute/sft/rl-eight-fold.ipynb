{
 "cells": [
  {
   "cell_type": "markdown",
   "id": "d86a7f20-bda4-4b71-8479-21320afc0d9e",
   "metadata": {},
   "source": [
    "# RL on Incorrect Synthetic Data Scales the Efficiency of LLM Math Reasoning by Eight-Fold"
   ]
  },
  {
   "cell_type": "code",
   "execution_count": null,
   "id": "9dc06895-ed81-4c02-861d-6e7c6f3b6eac",
   "metadata": {},
   "outputs": [],
   "source": []
  }
 ],
 "metadata": {
  "kernelspec": {
   "display_name": "Python 3 (ipykernel)",
   "language": "python",
   "name": "python3"
  },
  "language_info": {
   "codemirror_mode": {
    "name": "ipython",
    "version": 3
   },
   "file_extension": ".py",
   "mimetype": "text/x-python",
   "name": "python",
   "nbconvert_exporter": "python",
   "pygments_lexer": "ipython3",
   "version": "3.12.2"
  }
 },
 "nbformat": 4,
 "nbformat_minor": 5
}