{
 "cells": [
  {
   "cell_type": "markdown",
   "id": "7ce17941-f8cb-4c80-9833-478d3ef8fe03",
   "metadata": {},
   "source": [
    "# WordPiece, ULM and SentencePiece"
   ]
  },
  {
   "cell_type": "markdown",
   "id": "82038ef2-e47e-4c41-98c9-d48ecf552d26",
   "metadata": {},
   "source": [
    "## WordPiece\n",
    "\n",
    "Google的Bert模型在分词的时候使用的是WordPiece算法。与BPE算法类似，WordPiece算法也是每次从词表中选出两个子词合并成新的子词。与BPE的最大区别在于，如何选择两个子词进行合并：BPE选择频数最高的相邻子词合并，而WordPiece选择能够提升语言模型概率最大的相邻子词加入词表。\n",
    "\n",
    "看到这里，你可能不清楚WordPiece是如何选取子词的。这里，通过形式化方法，能够清楚地理解WordPiece在合并这一步是如何作出选择的。假设句子\n",
    "$S=(t_1, t_2,\\dots,t_n)$ 由 $n$ 个子词组成，$t_{i}$\n",
    "表示子词，且假设各个子词之间是独立存在的，则句子 $S$ 的语言模型似然值等价于所有子词概率的乘积：\n",
    "\n",
    "$$\\log P(S) = \\sum_{i=1}^{n}\\log P(t_{i})$$\n",
    "\n",
    "假设把相邻位置的x和y两个子词进行合并，合并后产生的子词记为z，此时句子\n",
    "似然值的变化可表示为：\n",
    "\n",
    "$$\\log P(t_{z}) - (\\log P(t_{x}) + \\log P(t_{y})) = \\log\\left(\\frac{P(t_{z})}{P(t_{x})P(t_{y})}\\right)$$\n",
    "\n",
    "WordPiece每次选择合并的两个子词，他们具有最大的互信息值，也就是两子词在语言模型上具有较强的关联性，它们经常在语料中以相邻方式同时出现。"
   ]
  },
  {
   "cell_type": "markdown",
   "id": "7974c17d-3930-46b5-838f-be5a42524fa4",
   "metadata": {},
   "source": [
    "## Unigram Language Model (ULM)\n",
    "\n",
    "对于句子S，为句子的一个分词结果，由m个子词组成。所以，当前分词下句子S的似然值可以表示为："
   ]
  },
  {
   "cell_type": "markdown",
   "id": "e2bd18fd-2185-4680-86e7-76cd85a7ced1",
   "metadata": {},
   "source": [
    "## SentencePiece\n",
    "\n",
    "```{note}\n",
    "SentencePiece is a simple and language independent subword tokenizer\n",
    "and detokenizer for Neural Text Processing. While existing subword segmentation\n",
    "tools assume that the input is pre-tokenized\n",
    "into word sequences, SentencePiece can\n",
    "train subword models directly from raw\n",
    "sentences.\n",
    "```"
   ]
  },
  {
   "cell_type": "code",
   "execution_count": null,
   "id": "03d06a77-415d-4e7a-ac28-29a51aaabeab",
   "metadata": {},
   "outputs": [],
   "source": []
  }
 ],
 "metadata": {
  "kernelspec": {
   "display_name": "Python 3 (ipykernel)",
   "language": "python",
   "name": "python3"
  },
  "language_info": {
   "codemirror_mode": {
    "name": "ipython",
    "version": 3
   },
   "file_extension": ".py",
   "mimetype": "text/x-python",
   "name": "python",
   "nbconvert_exporter": "python",
   "pygments_lexer": "ipython3",
   "version": "3.12.2"
  }
 },
 "nbformat": 4,
 "nbformat_minor": 5
}