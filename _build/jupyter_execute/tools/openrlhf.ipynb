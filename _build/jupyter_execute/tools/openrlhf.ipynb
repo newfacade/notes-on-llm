{
 "cells": [
  {
   "cell_type": "markdown",
   "id": "aa973432-1adc-4be3-8543-1fb2c5da3920",
   "metadata": {},
   "source": [
    "# OpenRLHF"
   ]
  },
  {
   "cell_type": "markdown",
   "id": "af894a98-a560-4e3b-a8ea-1e896b7878a3",
   "metadata": {},
   "source": [
    "## SFT"
   ]
  },
  {
   "cell_type": "code",
   "execution_count": null,
   "id": "c353f94d-fd9e-46ff-b9b1-6a5b45bcd1c9",
   "metadata": {},
   "outputs": [],
   "source": []
  }
 ],
 "metadata": {
  "kernelspec": {
   "display_name": "Python 3 (ipykernel)",
   "language": "python",
   "name": "python3"
  },
  "language_info": {
   "codemirror_mode": {
    "name": "ipython",
    "version": 3
   },
   "file_extension": ".py",
   "mimetype": "text/x-python",
   "name": "python",
   "nbconvert_exporter": "python",
   "pygments_lexer": "ipython3",
   "version": "3.12.2"
  }
 },
 "nbformat": 4,
 "nbformat_minor": 5
}