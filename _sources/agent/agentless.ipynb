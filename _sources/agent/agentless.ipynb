{
 "cells": [
  {
   "cell_type": "markdown",
   "id": "21c42e07-5a0b-480e-ba84-97a9fe71c90d",
   "metadata": {},
   "source": [
    "# AGENTLESS\n",
    "\n",
    "```{note}\n",
    "The complexity\n",
    "of former agent-based approaches, together with the limited abilities of\n",
    "current LLMs, raises the following question: Do we really have to employ\n",
    "complex autonomous software agents?<br>\n",
    "To attempt to answer this question,\n",
    "we build AGENTLESS – an agentless approach to automatically resolve\n",
    "software development issues. AGENTLESS employs a simplistic three-phase\n",
    "process of localization, repair, and patch validation, without letting the\n",
    "LLM decide future actions or operate with complex tools.\n",
    "```"
   ]
  },
  {
   "cell_type": "markdown",
   "id": "eb7ae69f-e21f-4baa-a48a-8f2c0a7535fd",
   "metadata": {},
   "source": [
    "## AGENTLESS Approach\n",
    "\n",
    "```{figure} ../images/agentless1.png\n",
    "```\n",
    "\n",
    "Figure 1 shows the overview of AGENTLESS, consisting of three phases: **localization**,\n",
    "**repair**, and **patch validation**. \n",
    "\n",
    "1. We first take in the issue description and the existing project\n",
    "codebase as input. Then, we begin our hierarchical localization process by turning the project codebase into a tree-like structure that illustrates the relative location of each\n",
    "file in the project.\n",
    "\n",
    "2. Next, using this repository structure along with the original issue\n",
    "description, we prompt the LLM to localize and rank the top $N$ most suspicious files that\n",
    "likely require editing to solve the issue.\n",
    "\n",
    "3. Since our repository structure format does not\n",
    "contain detailed source code information, we additionally retrieve files with most relevant\n",
    "code snippets with the issue description using embedding-based retrieval.\n",
    "\n",
    "4. We then\n",
    "combine the retrieved files with the LLM-localized files to obtain the final list of suspicious\n",
    "files. However, not all contents in each file need to be modified. As such, we provide a\n",
    "skeleton for each file (i.e., a list of declaration headers of the classes and functions) and\n",
    "ask the LLM to output a specific list of classes and functions that we should examine\n",
    "more closely to fix the bug.\n",
    "\n",
    "5. We then provide the complete code content of the previous\n",
    "locations and ask the LLM to finalize a smaller set of edit locations (i.e., classes, functions,\n",
    "or even specific lines).\n",
    "\n",
    "6. For the `repair phase`, we provide the code snippets at these edit\n",
    "locations together with the issue description and prompt the LLM to sample multiple\n",
    "patches to solve the issue.\n",
    "\n",
    "7. Next, we enter the patch validation phase, where we first ask\n",
    "the LLM to sample multiple reproduction tests that aim to replicate the original issue.\n",
    "\n",
    "8. and then select the optimal one based on actual execution results on the original codebase.\n",
    "\n",
    "9. AGENTLESS uses the reproduction test along with existing regression tests for patch\n",
    "ranking/selection.\n",
    "\n",
    "10. Finally, AGENTLESS selects the top-ranked patch as the final patch\n",
    "for submission."
   ]
  },
  {
   "cell_type": "code",
   "execution_count": null,
   "id": "5c4256b8-b023-477a-8e62-93b94d6e0689",
   "metadata": {},
   "outputs": [],
   "source": []
  }
 ],
 "metadata": {
  "kernelspec": {
   "display_name": "Python 3 (ipykernel)",
   "language": "python",
   "name": "python3"
  },
  "language_info": {
   "codemirror_mode": {
    "name": "ipython",
    "version": 3
   },
   "file_extension": ".py",
   "mimetype": "text/x-python",
   "name": "python",
   "nbconvert_exporter": "python",
   "pygments_lexer": "ipython3",
   "version": "3.12.2"
  }
 },
 "nbformat": 4,
 "nbformat_minor": 5
}
