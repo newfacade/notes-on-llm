{
 "cells": [
  {
   "cell_type": "markdown",
   "id": "53eaa9eb-e629-4f9c-9bf8-4b59aa77ed92",
   "metadata": {},
   "source": [
    "# SWE-agent\n",
    "\n",
    "```{note}\n",
    "Just as humans benefit from powerful software\n",
    "applications, such as integrated development environments, for complex tasks like\n",
    "software engineering, we posit that LM agents represent a new category of end\n",
    "users with their own needs and abilities, and would benefit from specially-built\n",
    "interfaces to the software they use.\n",
    "```"
   ]
  },
  {
   "cell_type": "markdown",
   "id": "7b9e25bf-7c79-470e-b708-8b75765c5e4e",
   "metadata": {},
   "source": [
    "## The Agent-Computer Interface\n",
    "\n",
    "An LM acts as an agent when it interacts with an environment by iteratively taking actions and\n",
    "receiving feedback. We refer to the interface LM agents use to interact with computers as the agent-computer interface\n",
    "(ACI). Figure 2 illustrates how ACIs provide LM agents with important functionality to interface\n",
    "with computers, similar to how code editors also help humans use computers more effectively.\n",
    "\n",
    "```{figure} ../images/swe-agent1.png\n",
    "```\n",
    "\n",
    "A well-designed ACI should help the LM agent understand the state of the application\n",
    "given previous changes, manage history to avoid unnecessary context from prior observations, and\n",
    "provide actions that models can use efficiently and reliably. Several insights about design principles that seem especially\n",
    "important for building effective ACIs:\n",
    "\n",
    "* **Actions should be simple and easy to understand for agents.**\n",
    "\n",
    "* **Actions should be compact and efficient.**\n",
    "\n",
    "* **Environment feedback should be informative but concise.**\n",
    "\n",
    "* **Guardrails mitigate error propagation and hasten recovery.** Like humans, LMs make mistakes\n",
    "when editing or searching and can struggle to recover from these errors. Building in guardrails,\n",
    "such as a code syntax checker that automatically detects mistakes, can help agents recognize and\n",
    "quickly correct errors."
   ]
  },
  {
   "cell_type": "markdown",
   "id": "569bd94e-f20c-4eef-9f1f-636765cc9089",
   "metadata": {},
   "source": [
    "## SWE-agent: Designing an ACI for Software Engineering\n",
    "\n",
    "**Search and navigation.** We introduce the special commands `find_file`,\n",
    "`search_file`, and `search_dir`. The `find_file` command searches for filenames in the repository, while the\n",
    "`search_file` and `search_dir` locates strings in a file(s) of a subdirectory.\n",
    "\n",
    "```{figure} ../images/swe-agent2.png\n",
    "```\n",
    "\n",
    "**File viewer.** After finding a file they want to view, agents use the interactive file viewer by calling\n",
    "the command `open` on the relevant file path. The file viewer presents a window of at most 100\n",
    "lines of the file at a time. The agent can move this window with the commands `scroll_down` and\n",
    "`scroll_up` or access a specific line with the `goto` command.\n",
    "\n",
    "**File editor.** The `edit` command\n",
    "works in conjunction with the file viewer, allowing agents to replace a specific range of lines in the\n",
    "open file.\n",
    "\n",
    "**Context management.** The SWE-agent system uses informative prompts, error messages, and history\n",
    "processors to keep agent context concise and informative. At each step, the system instructs\n",
    "them to generate both a thought and an action. Malformed generations trigger an error response, asking the agent to try again, which is repeated until a valid generation is received."
   ]
  },
  {
   "cell_type": "markdown",
   "id": "ead5bd79-dbab-4a0f-92cf-0a89e13abe3e",
   "metadata": {},
   "source": [
    "## Results\n",
    "\n",
    "```{figure} ../images/swe-agent3.png\n",
    "```"
   ]
  },
  {
   "cell_type": "code",
   "execution_count": null,
   "id": "9bca0bb4-a137-4f5e-8714-d5a50caebd41",
   "metadata": {},
   "outputs": [],
   "source": []
  }
 ],
 "metadata": {
  "kernelspec": {
   "display_name": "Python 3 (ipykernel)",
   "language": "python",
   "name": "python3"
  },
  "language_info": {
   "codemirror_mode": {
    "name": "ipython",
    "version": 3
   },
   "file_extension": ".py",
   "mimetype": "text/x-python",
   "name": "python",
   "nbconvert_exporter": "python",
   "pygments_lexer": "ipython3",
   "version": "3.12.2"
  }
 },
 "nbformat": 4,
 "nbformat_minor": 5
}
