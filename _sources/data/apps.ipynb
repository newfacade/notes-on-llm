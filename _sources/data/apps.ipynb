{
 "cells": [
  {
   "cell_type": "markdown",
   "id": "54a59829-26c3-40e9-a385-3ea23b6a13e9",
   "metadata": {},
   "source": [
    "# APPS\n",
    "\n",
    "```{note}\n",
    "The Automated Programming Progress Standard, abbreviated [APPS](https://github.com/hendrycks/apps), consists of 10,000 coding\n",
    "problems in total, with 131,777 test cases for checking solutions and 232,421 ground-truth solutions\n",
    "written by humans. The data are split evenly into training and test sets, with 5,000 problems each.<br/>\n",
    "The problems are curated from open-access\n",
    "sites where programmers share problems with each other, including Codewars, AtCoder, Kattis, and\n",
    "Codeforces.\n",
    "```\n",
    "\n",
    "```{figure} ../images/apps1.png\n",
    "---\n",
    "name: apps1\n",
    "---\n",
    "```"
   ]
  },
  {
   "cell_type": "code",
   "execution_count": null,
   "id": "80353701-c484-47e8-b1d3-9bb14c35a29b",
   "metadata": {},
   "outputs": [],
   "source": []
  }
 ],
 "metadata": {
  "kernelspec": {
   "display_name": "Python 3 (ipykernel)",
   "language": "python",
   "name": "python3"
  },
  "language_info": {
   "codemirror_mode": {
    "name": "ipython",
    "version": 3
   },
   "file_extension": ".py",
   "mimetype": "text/x-python",
   "name": "python",
   "nbconvert_exporter": "python",
   "pygments_lexer": "ipython3",
   "version": "3.12.2"
  }
 },
 "nbformat": 4,
 "nbformat_minor": 5
}
