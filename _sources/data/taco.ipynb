{
 "cells": [
  {
   "cell_type": "markdown",
   "id": "8f4ab60a-a40d-4feb-b038-c208f227376b",
   "metadata": {},
   "source": [
    "# TACO\n",
    "\n",
    "```{note}\n",
    "[TACO](https://github.com/FlagOpen/TACO) (Topics in Algorithmic COde generation dataset) is a dataset focused on algorithmic code generation, designed to provide a more challenging training dataset and evaluation benchmark for the code generation model field.\n",
    "\n",
    "* **Larger scale:** TACO includes a training set (25,443 problems) and a test set (1,000 problems).\n",
    "* **Higher quality:** Each problem in the TACO dataset is designed to match a diverse set of solution answers, with answer sizes of up to 1.55M.\n",
    "* **Fine-grained labels:** Each problem in the TACO dataset includes fine-grained labels such as task topics, algorithms, skills, and difficulty levels.\n",
    "```\n",
    "\n",
    "```{figure} ../images/taco1.png\n",
    "---\n",
    "name: taco1\n",
    "---\n",
    "```"
   ]
  },
  {
   "cell_type": "code",
   "execution_count": null,
   "id": "5d82023a-20a1-462b-905d-e7a62a02fbbc",
   "metadata": {},
   "outputs": [],
   "source": []
  }
 ],
 "metadata": {
  "kernelspec": {
   "display_name": "Python 3 (ipykernel)",
   "language": "python",
   "name": "python3"
  },
  "language_info": {
   "codemirror_mode": {
    "name": "ipython",
    "version": 3
   },
   "file_extension": ".py",
   "mimetype": "text/x-python",
   "name": "python",
   "nbconvert_exporter": "python",
   "pygments_lexer": "ipython3",
   "version": "3.12.2"
  }
 },
 "nbformat": 4,
 "nbformat_minor": 5
}
