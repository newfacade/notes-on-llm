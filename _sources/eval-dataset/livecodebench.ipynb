{
 "cells": [
  {
   "cell_type": "markdown",
   "id": "9070f69c-e90c-4289-85f6-15ec34d0c5d7",
   "metadata": {},
   "source": [
    "# LiveCodeBench"
   ]
  },
  {
   "cell_type": "code",
   "execution_count": null,
   "id": "befcb2a4-81e9-42a3-9b70-b77097fab99e",
   "metadata": {},
   "outputs": [],
   "source": []
  }
 ],
 "metadata": {
  "kernelspec": {
   "display_name": "Python 3 (ipykernel)",
   "language": "python",
   "name": "python3"
  },
  "language_info": {
   "codemirror_mode": {
    "name": "ipython",
    "version": 3
   },
   "file_extension": ".py",
   "mimetype": "text/x-python",
   "name": "python",
   "nbconvert_exporter": "python",
   "pygments_lexer": "ipython3",
   "version": "3.12.2"
  }
 },
 "nbformat": 4,
 "nbformat_minor": 5
}
