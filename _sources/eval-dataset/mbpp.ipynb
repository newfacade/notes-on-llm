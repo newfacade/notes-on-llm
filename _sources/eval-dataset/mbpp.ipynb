{
 "cells": [
  {
   "cell_type": "markdown",
   "id": "9a280097-4ba1-4ca7-8619-04598216dd78",
   "metadata": {},
   "source": [
    "# MBPP\n",
    "\n",
    "github: https://github.com/google-research/google-research/tree/master/mbpp\n",
    "\n",
    "The Mostly Basic Programming Problems\n",
    "(MBPP) dataset contains 974 programming tasks, designed to be solvable by entry-level programmers. We asked crowd-sourcing participants to\n",
    "write a short problem statement, a single self-contained Python function solving the problem specified, and three test\n",
    "cases that check for semantic correctness of the function. Participants also provided a ground-truth solution that passes\n",
    "all three test cases.\n",
    "\n",
    "![](../images/mbpp.png)\n",
    "\n",
    "We manually inspected, edited, and pruned a subset of the questions, yielding 426\n",
    "hand-verified questions, which we refer to as the edited dataset. For each question in the edited dataset, we ensured\n",
    "it had a standard Python function signature, that it was unambiguous to a human, and that its test cases accurately\n",
    "reflected the text description."
   ]
  },
  {
   "cell_type": "code",
   "execution_count": null,
   "id": "7cde1723-48d6-4722-bb55-cb0423038732",
   "metadata": {},
   "outputs": [],
   "source": []
  }
 ],
 "metadata": {
  "kernelspec": {
   "display_name": "Python 3 (ipykernel)",
   "language": "python",
   "name": "python3"
  },
  "language_info": {
   "codemirror_mode": {
    "name": "ipython",
    "version": 3
   },
   "file_extension": ".py",
   "mimetype": "text/x-python",
   "name": "python",
   "nbconvert_exporter": "python",
   "pygments_lexer": "ipython3",
   "version": "3.11.5"
  }
 },
 "nbformat": 4,
 "nbformat_minor": 5
}
