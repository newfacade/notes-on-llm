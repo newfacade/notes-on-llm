{
 "cells": [
  {
   "cell_type": "markdown",
   "id": "177bfab9-cf63-45fe-9bde-78099b14a24e",
   "metadata": {},
   "source": [
    "# DeepSeek-Coder-V2\n",
    "\n",
    "```{note}\n",
    "DeepSeek-Coder-V2 is further pre-trained from an intermediate checkpoint of DeepSeek-V2\n",
    "with additional 6T tokens.<br>\n",
    "In standard benchmark evaluations, DeepSeek-Coder-V2 achieves\n",
    "superior performance compared to closed-source models such as GPT4-Turbo in coding and math benchmarks.\n",
    "```\n",
    "\n",
    "![](../images/deepseek-coder-v2-1.png)"
   ]
  },
  {
   "cell_type": "markdown",
   "id": "2f97c20e-b105-48d7-94a8-7796c9eff93a",
   "metadata": {},
   "source": [
    "## Introduction\n",
    "\n",
    "In the pre-training phase, the dataset of DeepSeek-Coder-V2 is created with a composition\n",
    "of 60% source code, 10% math corpus, and 30% natural language corpus.\n",
    "\n",
    "To accommodate longer code inputs, we extend the context length from 16K to 128K tokens.\n",
    "\n",
    "In the alignment phase, we first construct an instruction training dataset that includes code\n",
    "and math data, as\n",
    "well as general instruction data. This dataset is used to\n",
    "fine-tune the base model. Then, in the reinforcement learning phase, we employ Group Relative\n",
    "Policy Optimization (GRPO) algorithm to align its behavior with human preferences. Preference\n",
    "data is collected in the coding domain using **compiler feedback and test cases**, and a reward\n",
    "model is developed to guide the training of the policy model."
   ]
  },
  {
   "cell_type": "markdown",
   "id": "2851e622-1e4d-4cee-b6f1-3eae07bd4c40",
   "metadata": {},
   "source": [
    "## Data Collection"
   ]
  },
  {
   "cell_type": "code",
   "execution_count": null,
   "id": "021de09d-851b-4554-bd89-158b5f790015",
   "metadata": {},
   "outputs": [],
   "source": []
  }
 ],
 "metadata": {
  "kernelspec": {
   "display_name": "Python 3 (ipykernel)",
   "language": "python",
   "name": "python3"
  },
  "language_info": {
   "codemirror_mode": {
    "name": "ipython",
    "version": 3
   },
   "file_extension": ".py",
   "mimetype": "text/x-python",
   "name": "python",
   "nbconvert_exporter": "python",
   "pygments_lexer": "ipython3",
   "version": "3.12.2"
  }
 },
 "nbformat": 4,
 "nbformat_minor": 5
}
