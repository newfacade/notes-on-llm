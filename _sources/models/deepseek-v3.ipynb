{
 "cells": [
  {
   "cell_type": "markdown",
   "id": "4db5f7b8-f507-4e21-a41d-5c3112a977cd",
   "metadata": {},
   "source": [
    "# DeepSeek V3"
   ]
  },
  {
   "cell_type": "code",
   "execution_count": null,
   "id": "07c92a23-ddff-48d3-ad02-463bfa1e73a5",
   "metadata": {},
   "outputs": [],
   "source": []
  }
 ],
 "metadata": {
  "kernelspec": {
   "display_name": "Python 3 (ipykernel)",
   "language": "python",
   "name": "python3"
  },
  "language_info": {
   "codemirror_mode": {
    "name": "ipython",
    "version": 3
   },
   "file_extension": ".py",
   "mimetype": "text/x-python",
   "name": "python",
   "nbconvert_exporter": "python",
   "pygments_lexer": "ipython3",
   "version": "3.12.2"
  }
 },
 "nbformat": 4,
 "nbformat_minor": 5
}
