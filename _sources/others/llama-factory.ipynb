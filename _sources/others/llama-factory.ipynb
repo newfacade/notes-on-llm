{
 "cells": [
  {
   "cell_type": "markdown",
   "id": "65087703-5556-4237-b518-688147214921",
   "metadata": {},
   "source": [
    "# Llama Factory\n",
    "\n",
    "Based on version 0.6.1"
   ]
  },
  {
   "cell_type": "markdown",
   "id": "cb90ad78-3d3a-4b23-901e-3f98e53a3b10",
   "metadata": {},
   "source": [
    "## SFT\n",
    "\n",
    "```bash\n",
    "deepspeed --include localhost:${gpus} --master_port=9901 src/train_bash.py \\                                                 \n",
    "    --deepspeed scripts/deepspeed.json \\                                                                                       \n",
    "    --stage sft \\                                                                                                              \n",
    "    --model_name_or_path ./pretrained_weights/deepseek-coder-6.7b-base \\                                                       \n",
    "    --do_train \\                                                                                                               \n",
    "    --dataset ${dataset} \\                                                                                                     \n",
    "    --template deepseekcoder \\                                                                                                 \n",
    "    --finetuning_type full \\                                                                                                   \n",
    "    --output_dir ${output_dir} \\                                                                                               \n",
    "    --overwrite_cache \\                                                                                                        \n",
    "    --cutoff_len 4096 \\                                                                                                        \n",
    "    --per_device_train_batch_size 4 \\                                                                                          \n",
    "    --gradient_accumulation_steps 1 \\                                                                                          \n",
    "    --lr_scheduler_type cosine \\                                                                                               \n",
    "    --logging_steps 10 \\                                                                                                       \n",
    "    --save_steps 12000 \\                                                                                                       \n",
    "    --learning_rate 1e-5 \\                                                                                                     \n",
    "    --num_train_epochs 5.0 \\                                                                                                 \n",
    "    --packing True \\                                                                                                           \n",
    "    --plot_loss \\                                                                                                              \n",
    "    --bf16 \\                                                                                                                   \n",
    "    --use_fast_tokenizer\n",
    "```"
   ]
  },
  {
   "cell_type": "code",
   "execution_count": null,
   "id": "7d4cad4f-f19e-4b02-af04-7e72f943c23f",
   "metadata": {},
   "outputs": [],
   "source": []
  }
 ],
 "metadata": {
  "kernelspec": {
   "display_name": "Python 3 (ipykernel)",
   "language": "python",
   "name": "python3"
  },
  "language_info": {
   "codemirror_mode": {
    "name": "ipython",
    "version": 3
   },
   "file_extension": ".py",
   "mimetype": "text/x-python",
   "name": "python",
   "nbconvert_exporter": "python",
   "pygments_lexer": "ipython3",
   "version": "3.12.2"
  }
 },
 "nbformat": 4,
 "nbformat_minor": 5
}
