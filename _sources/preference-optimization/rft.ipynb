{
 "cells": [
  {
   "cell_type": "markdown",
   "id": "21b465bb-fe39-4dae-b7bd-be4c9f956d2a",
   "metadata": {},
   "source": [
    "# RFT"
   ]
  },
  {
   "cell_type": "code",
   "execution_count": null,
   "id": "3b8222a6-a688-4475-828c-be35c16e94bd",
   "metadata": {},
   "outputs": [],
   "source": []
  }
 ],
 "metadata": {
  "kernelspec": {
   "display_name": "Python 3 (ipykernel)",
   "language": "python",
   "name": "python3"
  },
  "language_info": {
   "codemirror_mode": {
    "name": "ipython",
    "version": 3
   },
   "file_extension": ".py",
   "mimetype": "text/x-python",
   "name": "python",
   "nbconvert_exporter": "python",
   "pygments_lexer": "ipython3",
   "version": "3.12.2"
  }
 },
 "nbformat": 4,
 "nbformat_minor": 5
}
