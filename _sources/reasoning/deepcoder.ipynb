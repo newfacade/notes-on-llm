{
 "cells": [
  {
   "cell_type": "markdown",
   "id": "e4603bc0-a347-451f-a136-09cb8b6d7dcc",
   "metadata": {},
   "source": [
    "# DeepCoder"
   ]
  },
  {
   "cell_type": "code",
   "execution_count": null,
   "id": "39b5c782-c331-419a-bda3-b3f7fe633a49",
   "metadata": {},
   "outputs": [],
   "source": []
  }
 ],
 "metadata": {
  "kernelspec": {
   "display_name": "Python 3 (ipykernel)",
   "language": "python",
   "name": "python3"
  },
  "language_info": {
   "codemirror_mode": {
    "name": "ipython",
    "version": 3
   },
   "file_extension": ".py",
   "mimetype": "text/x-python",
   "name": "python",
   "nbconvert_exporter": "python",
   "pygments_lexer": "ipython3",
   "version": "3.12.2"
  }
 },
 "nbformat": 4,
 "nbformat_minor": 5
}
