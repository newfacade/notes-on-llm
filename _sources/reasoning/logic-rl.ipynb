{
 "cells": [
  {
   "cell_type": "markdown",
   "id": "72204f80-5471-44ea-9752-57acc9c89bc8",
   "metadata": {},
   "source": [
    "# Logic-RL"
   ]
  },
  {
   "cell_type": "code",
   "execution_count": null,
   "id": "9863dfb1-8edf-428e-99e0-fb1cb5261f5f",
   "metadata": {},
   "outputs": [],
   "source": []
  }
 ],
 "metadata": {
  "kernelspec": {
   "display_name": "Python 3 (ipykernel)",
   "language": "python",
   "name": "python3"
  },
  "language_info": {
   "codemirror_mode": {
    "name": "ipython",
    "version": 3
   },
   "file_extension": ".py",
   "mimetype": "text/x-python",
   "name": "python",
   "nbconvert_exporter": "python",
   "pygments_lexer": "ipython3",
   "version": "3.12.2"
  }
 },
 "nbformat": 4,
 "nbformat_minor": 5
}
