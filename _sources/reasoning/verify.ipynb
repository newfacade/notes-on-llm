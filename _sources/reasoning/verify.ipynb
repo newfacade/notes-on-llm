{
 "cells": [
  {
   "cell_type": "markdown",
   "id": "c3b16e70-60cd-481e-b77e-f74f07895859",
   "metadata": {},
   "source": [
    "# Let’s Verify Step by Step\n",
    "\n",
    "```{note}\n",
    "To train more\n",
    "reliable models, we can turn either to outcome supervision, which provides\n",
    "feedback for a final result, or process supervision, which provides feedback\n",
    "for each intermediate reasoning step.<br/>\n",
    "We conduct our\n",
    "own investigation, finding that process supervision significantly outperforms\n",
    "outcome supervision for training models to solve problems from the\n",
    "challenging MATH dataset.\n",
    "```"
   ]
  },
  {
   "cell_type": "markdown",
   "id": "6dbbc3b5-47cd-498d-bed8-56398c392f3f",
   "metadata": {
    "jp-MarkdownHeadingCollapsed": true
   },
   "source": [
    "## Methods\n",
    "\n",
    "We conduct experiments in two separate regimes: large-scale and smallscale. At each model scale, we use a single fixed model to generate all solutions. We\n",
    "call this model the `generator`. \n",
    "\n",
    "We do not attempt to improve the generator with\n",
    "reinforcement learning (RL). When we discuss outcome and process supervision,\n",
    "we are specifically referring to the supervision given to the reward model.\n",
    "\n",
    "```{tip}\n",
    "We focus exclusively on how to train the most reliable reward model\n",
    "possible. We evaluate a reward model by its ability to perform best-of-N search\n",
    "over uniformly sampled solutions from the generator.\n",
    "```\n",
    "\n",
    "### Base Models\n",
    "\n",
    "All large-scale models are finetuned from the base GPT-4 model. The small-scale base models are similar in design to\n",
    "GPT-4, but they were pretrained with roughly 200 times less compute. As an\n",
    "additional pretraining step, we finetune all models on a dataset of roughly 1.5B math-relevant tokens, which we call MathMix.\n",
    "\n",
    "### Generator\n",
    "\n",
    "We few-shot\n",
    "generate solutions to MATH training problems, filter to those that reach the\n",
    "correct final answer, and finetune the base model on this dataset for a single\n",
    "epoch.\n",
    "\n",
    "### Data Collection\n",
    "\n",
    "To collect process supervision data, we present human data-labelers with stepby-\n",
    "step solutions to MATH problems sampled by the large-scale generator.\n",
    "Their task is to assign each step in the solution a label of positive, negative,\n",
    "or neutral. We refer to the entire\n",
    "dataset of step-level labels collected as PRM800K. The PRM800K training\n",
    "set contains 800K step-level labels across 75K solutions to 12K problems.\n",
    "\n",
    "![](../images/verify-step1.png)\n",
    "\n",
    "During data collection, we must decide which solutions to surface to datalabelers. We would prefer to surface\n",
    "solutions that are more likely to fool our best reward model. To that end, we choose to surface `convincing wrong-answer` solutions. We use the term convincing\n",
    "to refer to solutions that are rated highly by our current best PRM, and\n",
    "we use wrong-answer to refer to solutions that reach an incorrect final answer.\n",
    "\n",
    "### Outcome-supervised Reward Models (ORMs)\n",
    "\n",
    "We\n",
    "uniformly sample a fixed number of solutions per problem from the generator,\n",
    "and we train the ORM to predict whether each solution is correct or incorrect.\n",
    "\n",
    "### Process-supervised Reward Models (PRMs)\n",
    "\n",
    "We train PRMs to predict the correctness of each step after the last token in\n",
    "each step. This prediction takes the form of a single token, and we maximize the log-likelihood of these target tokens during training. The PRM can therefore\n",
    "be trained in a standard language model pipeline without any special accommodations.\n",
    "\n",
    "```{tip}\n",
    "We train our PRMs by fine-tuning the MathMix model to predict the probability\n",
    "of positive, negative, and neutral labels given a solution prefix ending in one of\n",
    "our labeled steps.<br/>\n",
    "Language modeling task $\\to$ classification task.\n",
    "```\n",
    "\n",
    "![](../images/verify-step2.svg)\n",
    "\n",
    "When we provide process supervision, we deliberately choose to supervise\n",
    "only up to the first incorrect step."
   ]
  },
  {
   "cell_type": "markdown",
   "id": "98c0f569-7c53-405a-8103-9144400c30df",
   "metadata": {},
   "source": [
    "## Large-scale Supervision\n",
    "\n",
    "We train the large-scale PRM using the step-level labels in PRM800K. To ensure\n",
    "the large-scale ORM baseline is as strong as possible, we train on 100 uniform\n",
    "samples per problem from the generator.\n",
    "\n",
    "![](../images/verify-step3.png)"
   ]
  },
  {
   "cell_type": "markdown",
   "id": "a4524f6f-f0d6-4b1d-aa98-4e4fe17d58c4",
   "metadata": {},
   "source": [
    "## Small-scale Synthetic Supervision\n",
    "\n",
    "To better compare outcome and process supervision, we perform the relevant ablations\n",
    "by using the large-scale PRM to supervise smaller models.\n",
    "\n",
    "### Process vs Outcome Supervision\n",
    "\n",
    "We first sample between 1 and 200 solutions per problem from a small-scale generator.\n",
    "For each dataset, we provide three forms of supervision: process supervision\n",
    "from $\\text{PRM}_\\text{large}$, outcome supervision from $\\text{PRM}_\\text{large}$, and outcome supervision\n",
    "from final-answer checking. The choice of supervision is the only difference\n",
    "between these three series of reward models, which are otherwise trained on\n",
    "identical datasets.\n",
    "\n",
    "![](../images/verify-step4.png)\n",
    "\n",
    "### Active Learning\n",
    "\n",
    "Finally, we investigate the impact of active learning. We train a small-scale\n",
    "reward model, $\\text{PRM}_\\text{selector}$, on a single sample from each problem, and we use\n",
    "this model to score 1000 samples per problem.\n",
    "\n",
    "To train each of our larger reward\n",
    "models, we select N samples per problem such that 80% are the most\n",
    "convincing (according to $\\text{PRM}_\\text{selector}$) wrong-answer samples, and 20% are the\n",
    "most convincing samples that remain (right- or wrong-answer)."
   ]
  },
  {
   "cell_type": "markdown",
   "id": "dd9c931e-b83b-4996-8378-a683f406438e",
   "metadata": {},
   "source": [
    "## OOD Generalization\n",
    "\n",
    "For OOD problems, the PRM outperforms\n",
    "both the ORM and majority voting. This shows us that the PRM can tolerate\n",
    "a modest amount of distribution shift and that its strong performance holds up\n",
    "on fresh test questions.\n",
    "\n",
    "![](../images/verify-step5.png)"
   ]
  },
  {
   "cell_type": "markdown",
   "id": "d68486d5-5b64-46a0-9003-029ea3edd15c",
   "metadata": {},
   "source": [
    "## Takeaways\n",
    "\n",
    "```{tip}\n",
    "1. Process supervision can train much more reliable reward models than outcome supervision.\n",
    "\n",
    "2. Large reward model can reliably approximate human supervision\n",
    "for smaller reward models, and that it can be used to efficiently\n",
    "conduct large-scale data collection ablations.\n",
    "\n",
    "3. Active learning leads to a 2.6× improvement in the data\n",
    "efficiency of process supervision.\n",
    "```"
   ]
  },
  {
   "cell_type": "code",
   "execution_count": null,
   "id": "1b7962e7-be5b-419a-b5ac-44f07b44fd86",
   "metadata": {},
   "outputs": [],
   "source": []
  }
 ],
 "metadata": {
  "kernelspec": {
   "display_name": "Python 3 (ipykernel)",
   "language": "python",
   "name": "python3"
  },
  "language_info": {
   "codemirror_mode": {
    "name": "ipython",
    "version": 3
   },
   "file_extension": ".py",
   "mimetype": "text/x-python",
   "name": "python",
   "nbconvert_exporter": "python",
   "pygments_lexer": "ipython3",
   "version": "3.12.2"
  }
 },
 "nbformat": 4,
 "nbformat_minor": 5
}
