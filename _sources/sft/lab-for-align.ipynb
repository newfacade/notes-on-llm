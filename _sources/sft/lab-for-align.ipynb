{
 "cells": [
  {
   "cell_type": "markdown",
   "id": "2b2ae77d-a843-4ebc-8056-8c817512d7c2",
   "metadata": {},
   "source": [
    "# A General Language Assistant as a Laboratory for Alignment"
   ]
  },
  {
   "cell_type": "markdown",
   "id": "ab1f176f-34df-4acb-aba7-8b3e63f8807d",
   "metadata": {},
   "source": [
    "## Conditioning on Aligned Behavior\n",
    "\n",
    "Large language models can be guided towards desirable behaviors by taking advantage of their in-context\n",
    "learning abilities. We do not expect that prompting will produce fully aligned behavior, but it provides a very useful\n",
    "baseline."
   ]
  },
  {
   "cell_type": "code",
   "execution_count": null,
   "id": "f7ee8dea-36c2-4139-8032-873097f5d2e9",
   "metadata": {},
   "outputs": [],
   "source": []
  }
 ],
 "metadata": {
  "kernelspec": {
   "display_name": "Python 3 (ipykernel)",
   "language": "python",
   "name": "python3"
  },
  "language_info": {
   "codemirror_mode": {
    "name": "ipython",
    "version": 3
   },
   "file_extension": ".py",
   "mimetype": "text/x-python",
   "name": "python",
   "nbconvert_exporter": "python",
   "pygments_lexer": "ipython3",
   "version": "3.12.2"
  }
 },
 "nbformat": 4,
 "nbformat_minor": 5
}
