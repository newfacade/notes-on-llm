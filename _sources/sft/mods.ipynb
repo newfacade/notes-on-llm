{
 "cells": [
  {
   "cell_type": "markdown",
   "id": "593a8c0c-f65d-45ad-97dd-179351ecde6c",
   "metadata": {},
   "source": [
    "# Model-oriented Data Selection for Instruction Tuning"
   ]
  },
  {
   "cell_type": "code",
   "execution_count": null,
   "id": "92a0dab0-f60a-4d3e-a28a-4ff71c0c2d59",
   "metadata": {},
   "outputs": [],
   "source": []
  }
 ],
 "metadata": {
  "kernelspec": {
   "display_name": "Python 3 (ipykernel)",
   "language": "python",
   "name": "python3"
  },
  "language_info": {
   "codemirror_mode": {
    "name": "ipython",
    "version": 3
   },
   "file_extension": ".py",
   "mimetype": "text/x-python",
   "name": "python",
   "nbconvert_exporter": "python",
   "pygments_lexer": "ipython3",
   "version": "3.12.2"
  }
 },
 "nbformat": 4,
 "nbformat_minor": 5
}
