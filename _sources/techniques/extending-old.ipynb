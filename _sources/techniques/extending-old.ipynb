{
 "cells": [
  {
   "cell_type": "markdown",
   "id": "206c6905-3dff-4240-a44a-a5887a30c60d",
   "metadata": {},
   "source": [
    "# Extending context window of large language models via position interpolation\n",
    "\n",
    "```{note}\n",
    "We present Position Interpolation (PI) that extends the context window sizes of\n",
    "RoPE-based pretrained LLMs such as LLaMA models to up to 32768 with minimal fine-tuning (within 1000 steps), while\n",
    "demonstrating strong empirical results on various tasks that require long context. \n",
    "Meanwhile, the extended model by Position Interpolation\n",
    "preserve quality relatively well on tasks within its original context window.\n",
    "```"
   ]
  },
  {
   "cell_type": "markdown",
   "id": "a86a3c08-d074-4589-a784-092441708e5b",
   "metadata": {},
   "source": [
    "## Background: Rotary Position Embedding (RoPE)\n",
    "\n",
    "Transformer models require explicit positional information to be injected, typically in the form of\n",
    "positional encodings, to represent the order of inputs. We consider Rotary Position Embedding, which is the position encoding used in the LLaMA model.\n",
    "\n",
    "Given a position index $m\\in[0, c)$ and an embedding vector $\\mathbf{x} := [x_0, x_1, . . . , x_{d−1}]^{\\intercal}$, where\n",
    "$d$ is the dimension of the attention head, RoPE defines a vector-valued complex function $f(\\mathbf{x}, m)$ as\n",
    "follows\n",
    "\n",
    "$$f(\\mathbf{x}, m) = \\left[(x_{0} + ix_{1})e^{im\\theta_{0}}, (x_{2} + ix_{3})e^{im\\theta_{1}},\\dots,(x_{d-2} + ix_{d-1})e^{im\\theta_{d/2-1}}\\right]^{\\intercal}$$\n",
    "\n",
    "where $i:=\\sqrt{-1}$ is the imaginary unit and $\\theta_{j}=10000^{-2j/d}$. Using RoPE, the self-attention score\n",
    "\n",
    "$$\n",
    "\\begin{aligned}\n",
    "a(m,n) &= \\text{Re}\\left \\langle f(\\mathbf{q}, m), f(\\mathbf{k}, n)  \\right \\rangle \\\\\n",
    "&= \\text{Re}\\left[\\sum_{j=0}^{d/2-1}(q_{2j} + iq_{2j+1})(k_{2j} - ik_{2j+1})e^{i(m-n)\\theta_{j}}\\right]\\\\\n",
    "&= \\sum_{j=0}^{d/2-1}(q_{2j}k_{2j} + q_{2j+1}k_{2j+1})\\cos((m-n)\\theta_{j}) + (q_{2j}k_{2j+1} - q_{2j+1}k_{2j})\\sin((m-n)\\theta_{j})\\\\\n",
    "&=: a(m-n)\n",
    "\\end{aligned}\n",
    "$$\n",
    "\n",
    "is only dependent on relative position $m− n$ through trigonometric functions. Here $\\mathbf{q}$ and $\\mathbf{k}$ are the\n",
    "query and key vector for a specific attention head. At each layer, RoPE is applied on both query and\n",
    "key embeddings for computing attention scores."
   ]
  },
  {
   "cell_type": "markdown",
   "id": "8553e14f-d338-4e0e-97bd-4fdf6fa9d612",
   "metadata": {},
   "source": [
    "## Introduction\n",
    "\n",
    "Large language models (LLMs) typically come with a pre-defined context window size. For example,\n",
    "inputs to LLaMA models must be fewer than 2048 tokens. This pre-set\n",
    "context window limit is frequently exceeded in applications such as conducting long conversations,\n",
    "summarizing long documents, or executing long-term planning. For these applications, LLMs with\n",
    "longer context windows are preferred. However, training an LLM from scratch with long context\n",
    "windows requires significant investments. This naturally leads to a question: Can we extend the\n",
    "context window of an existing pre-trained LLM?\n",
    "\n",
    "One straightforward approach is to fine-tune an existing pre-trained Transformer with a longer context\n",
    "window. However, empirically, we found that models trained this way adapt to long context\n",
    "windows very slowly.\n",
    "\n",
    "While certain techniques such as ALiBi and LeX enable length\n",
    "extrapolation of Transformers, i.e. train on short context windows and inference on longer ones,\n",
    "many existing pre-trained LLMs, including LLaMA, use positional encodings\n",
    "that have weak extrapolation properties.\n",
    "\n",
    "In this work, we introduce Position Interpolation to enable context window extensions for certain\n",
    "existing pre-trained LLMs, including LLaMA. The key idea is, instead of extrapolation, we directly\n",
    "down-scale the position indices so that the maximum position index matches the previous context\n",
    "window limit in the pre-training stage.\n",
    "\n",
    "![](../images/extending.png)"
   ]
  },
  {
   "cell_type": "markdown",
   "id": "499caa16-6263-4140-b571-3796f43646a3",
   "metadata": {},
   "source": [
    "## Direct extrapolation\n",
    "\n",
    "Ideally, we want to see the model trained on a context window of size $L = 2048$ to still work\n",
    "reasonably well on longer context window, but may not have the capability to leverage information\n",
    "that appears beyond L. For example, to answer a question located at 3000, the model trained on\n",
    "maximal window size of $L = 2048$ cannot leverage evidences provided at location 0, but still\n",
    "can leverage the evidences provided at location 2900. In contrast, in reality we see catastrophic\n",
    "behaviors, i.e., question at location 3000 cannot be answered correctly, even if the evidences are\n",
    "located at location 2900.\n",
    "\n",
    "What is the reason behind? How could this happen if the attention score $a(m−n)$ decays as the relative\n",
    "distance $|m − n|$ increases, according to the RoPE paper? It turns out that the upper bound derived in the RoPE paper\n",
    "may be too loose. In fact, if we treat all trigonometric functions $e^{is\\theta_{j}}$ as basis functions, \n",
    "and think about the self-attention score as basis expansion as the following:\n",
    "\n",
    "$$a(s) = \\text{Re}\\left[\\sum_{j=0}^{d/2-1}h_{j}e^{is\\theta_{j}}\\right]$$\n",
    "\n",
    "Now the the issue becomes clear: $a(s)$ can be small in magnitude in the range of $[0, 2048]$, but gives huge values out of the\n",
    "region. The underlying reason is that the trigonometric family $e^{is\\theta_{j}}$ (with sufficiently large $d$) is\n",
    "a universal approximator and can fit any arbitrary functions. Therefore, for $a(s)$, there always exist\n",
    "coefficients ${h_j}$ (i.e. key and query) that corresponds to small function values in $[0, 2048]$ but\n",
    "much larger in regions beyond."
   ]
  },
  {
   "cell_type": "markdown",
   "id": "e5a80273-d7f8-4f50-ae81-5c7f14ea49d6",
   "metadata": {},
   "source": [
    "## Positional Interpolation\n",
    "\n",
    "Instead of extrapolate the attention score to $s>L$, we replace RoPE $f$ by $f'$ defined as follows\n",
    "\n",
    "$$f'(\\mathbf{x}, m) = f(\\mathbf{x}, \\frac{mL}{L'})$$\n",
    "\n",
    "where $L'$ is the longer context window. We call this transformation on the position encoding Position Interpolation. In this step, we reduce\n",
    "position indices from $[0,L')$ to $[0,L)$ to match the original range of indices before computing RoPE. Since we align the ranges of position indices and relative distances before\n",
    "and after extension, we mitigate the effect on attention score computation due to context window\n",
    "extensions, which can allow the model easier to adapt.\n",
    "\n",
    "(**Interpolation bound**). For attention score $a(s) = \\text{Re}\\left[\\sum_{j=0}^{d/2-1}h_{j}e^{is\\theta_{j}}\\right]$, where $\\theta_{j} = c^{-2j/d}$, its interpolation value $a(s)$ for $s\\in[s_{1},s_{2}]$ is bounded as follows:\n",
    "\n",
    "$$|a(s) - a_{\\text{linear}}(s)|\\le d(\\max_{j}|h_{j}|)\\frac{(s-s_{1})(s_{2}-s)}{8\\ln{c}}$$\n",
    "\n",
    "where $a_{\\text{linear}}(s)$ is the linear interpolation of two grid point $a(s_1)$ and $a(s_2)$ that are known to\n",
    "behave well, enforced by LLM pre-training:\n",
    "\n",
    "$$a_{\\text{linear}}(s):=(1-\\lambda(s))a(s_{1}) + \\lambda(s)a(s_{2}),\\quad \\lambda(s):=\\frac{s-s_{1}}{s_{2}-s_{1}}$$\n",
    "\n",
    "Notably, our method of rescaling of position indices does not introduce extra weight, or modify\n",
    "the model architecture in any way. This makes it attractive in practical applications, since most\n",
    "infrastructure and optimization for the original model can be reused after the extension.\n",
    "\n",
    "**Fine-tuning.** We can further fine-tune the interpolated model using the next token prediction task\n",
    "with interpolated position encodings on the extended context window size using a pre-training corpus\n",
    "such as the Pile. In the next section, we show that our fine-tuning process\n",
    "only needs tens to hundreds thousands of examples."
   ]
  },
  {
   "cell_type": "markdown",
   "id": "edfd6f91-c3ad-4ef6-b35b-aeff135705da",
   "metadata": {},
   "source": [
    "## Experiments"
   ]
  },
  {
   "cell_type": "markdown",
   "id": "796e1c70-5a37-4726-b94e-307cc24d36b9",
   "metadata": {},
   "source": [
    "## Llama implementation"
   ]
  },
  {
   "cell_type": "code",
   "execution_count": 1,
   "id": "c62cf0aa-8799-43dd-b902-1c7db8ced19c",
   "metadata": {
    "tags": []
   },
   "outputs": [],
   "source": [
    "import torch\n",
    "from torch import nn\n",
    "from typing import Tuple\n",
    "\n",
    "\n",
    "def precompute_freqs_cis(dim: int, end: int, theta: float = 10000.0):\n",
    "    \"\"\"\n",
    "    Precompute the frequency tensor for complex exponentials (cis) with given dimensions.\n",
    "\n",
    "    This function calculates a frequency tensor with complex exponentials using the given dimension 'dim'\n",
    "    and the end index 'end'. The 'theta' parameter scales the frequencies.\n",
    "    The returned tensor contains complex values in complex64 data type.\n",
    "\n",
    "    Args:\n",
    "        dim (int): Dimension of the frequency tensor.\n",
    "        end (int): End index for precomputing frequencies.\n",
    "        theta (float, optional): Scaling factor for frequency computation. Defaults to 10000.0.\n",
    "\n",
    "    Returns:\n",
    "        torch.Tensor: Precomputed frequency tensor with complex exponentials.\n",
    "\n",
    "    \n",
    "        \n",
    "\n",
    "    \"\"\"\n",
    "    # (theta_0, theta_1, ..., theta_{d/2-1})\n",
    "    freqs = 1.0 / (theta ** (torch.arange(0, dim, 2)[: (dim // 2)].float() / dim))\n",
    "    t = torch.arange(end, device=freqs.device)  # type: ignore\n",
    "    freqs = torch.outer(t, freqs).float()  # type: ignore\n",
    "    # torch.polar(abs, angle)\n",
    "    freqs_cis = torch.polar(torch.ones_like(freqs), freqs)  # complex64\n",
    "    return freqs_cis"
   ]
  },
  {
   "cell_type": "markdown",
   "id": "a496a02d-9392-4f06-a4a0-1858f88657ad",
   "metadata": {},
   "source": [
    "The $m$-th row of `freqs_cis` is:\n",
    "\n",
    "$$\\left[e^{im\\theta_{0}}, e^{im\\theta_{1}}, \\dots, e^{im\\theta_{d/2-1}}\\right]$$\n",
    "\n",
    "where $\\theta_{j}=10000^{-2j/d}$."
   ]
  },
  {
   "cell_type": "code",
   "execution_count": 2,
   "id": "79a1db26-8e50-4af8-b85a-36703acc6f3b",
   "metadata": {
    "tags": []
   },
   "outputs": [],
   "source": [
    "def reshape_for_broadcast(freqs_cis: torch.Tensor, x: torch.Tensor):\n",
    "    \"\"\"\n",
    "    Reshape frequency tensor for broadcasting it with another tensor.\n",
    "\n",
    "    This function reshapes the frequency tensor to have the same shape as the target tensor 'x'\n",
    "    for the purpose of broadcasting the frequency tensor during element-wise operations.\n",
    "\n",
    "    Args:\n",
    "        freqs_cis (torch.Tensor): Frequency tensor to be reshaped.\n",
    "        x (torch.Tensor): Target tensor for broadcasting compatibility.\n",
    "\n",
    "    Returns:\n",
    "        torch.Tensor: Reshaped frequency tensor.\n",
    "\n",
    "    Raises:\n",
    "        AssertionError: If the frequency tensor doesn't match the expected shape.\n",
    "        AssertionError: If the target tensor 'x' doesn't have the expected number of dimensions.\n",
    "    \"\"\"\n",
    "    ndim = x.ndim\n",
    "    assert 0 <= 1 < ndim\n",
    "    assert freqs_cis.shape == (x.shape[1], x.shape[-1])\n",
    "    shape = [d if i == 1 or i == ndim - 1 else 1 for i, d in enumerate(x.shape)]\n",
    "    return freqs_cis.view(*shape)\n",
    "\n",
    "\n",
    "def apply_rotary_emb(\n",
    "    xq: torch.Tensor,\n",
    "    xk: torch.Tensor,\n",
    "    freqs_cis: torch.Tensor,\n",
    ") -> Tuple[torch.Tensor, torch.Tensor]:\n",
    "    \"\"\"\n",
    "    Apply rotary embeddings to input tensors using the given frequency tensor.\n",
    "\n",
    "    This function applies rotary embeddings to the given query 'xq' and key 'xk' tensors using the provided\n",
    "    frequency tensor 'freqs_cis'. The input tensors are reshaped as complex numbers, and the frequency tensor\n",
    "    is reshaped for broadcasting compatibility. The resulting tensors contain rotary embeddings and are\n",
    "    returned as real tensors.\n",
    "\n",
    "    Args:\n",
    "        xq (torch.Tensor): Query tensor to apply rotary embeddings.\n",
    "        xk (torch.Tensor): Key tensor to apply rotary embeddings.\n",
    "        freqs_cis (torch.Tensor): Precomputed frequency tensor for complex exponentials.\n",
    "\n",
    "    Returns:\n",
    "        Tuple[torch.Tensor, torch.Tensor]: Tuple of modified query tensor and key tensor with rotary embeddings.\n",
    "\n",
    "        \n",
    "\n",
    "    \"\"\"\n",
    "    xq_ = torch.view_as_complex(xq.float().reshape(*xq.shape[:-1], -1, 2))\n",
    "    xk_ = torch.view_as_complex(xk.float().reshape(*xk.shape[:-1], -1, 2))\n",
    "    freqs_cis = reshape_for_broadcast(freqs_cis, xq_)\n",
    "    xq_out = torch.view_as_real(xq_ * freqs_cis).flatten(3)\n",
    "    xk_out = torch.view_as_real(xk_ * freqs_cis).flatten(3)\n",
    "    return xq_out.type_as(xq), xk_out.type_as(xk)"
   ]
  },
  {
   "cell_type": "markdown",
   "id": "c28cabc3-81f4-499a-9d5c-7188af18d3e8",
   "metadata": {},
   "source": [
    "one row of `xq_`:\n",
    "\n",
    "$$\\left[(x_{0} + ix_{1}), (x_{2} + ix_{3}),\\dots,(x_{d-2} + ix_{d-1})\\right]$$"
   ]
  },
  {
   "cell_type": "code",
   "execution_count": 3,
   "id": "f7e8b122-35c7-4e89-8780-3d8225d2a6f4",
   "metadata": {},
   "outputs": [
    {
     "data": {
      "text/plain": [
       "tensor([[[0, 1, 2, 3],\n",
       "         [4, 5, 6, 7]]])"
      ]
     },
     "execution_count": 3,
     "metadata": {},
     "output_type": "execute_result"
    }
   ],
   "source": [
    "xq = torch.arange(8).reshape(1, 2, 4)\n",
    "xq"
   ]
  },
  {
   "cell_type": "code",
   "execution_count": 4,
   "id": "c7b1d842-e729-4153-ad44-591d8026df24",
   "metadata": {
    "tags": []
   },
   "outputs": [
    {
     "data": {
      "text/plain": [
       "tensor([[[0.+1.j, 2.+3.j],\n",
       "         [4.+5.j, 6.+7.j]]])"
      ]
     },
     "execution_count": 4,
     "metadata": {},
     "output_type": "execute_result"
    }
   ],
   "source": [
    "xq_ = torch.view_as_complex(xq.float().reshape(*xq.shape[:-1], -1, 2))\n",
    "xq_"
   ]
  },
  {
   "cell_type": "code",
   "execution_count": 5,
   "id": "bb73c26f-b2c3-4056-a3f2-237a6d1271fd",
   "metadata": {
    "tags": []
   },
   "outputs": [
    {
     "data": {
      "text/plain": [
       "tensor([[1.0000+0.0000j, 1.0000+0.0000j],\n",
       "        [0.5403+0.8415j, 0.9999+0.0100j]])"
      ]
     },
     "execution_count": 5,
     "metadata": {},
     "output_type": "execute_result"
    }
   ],
   "source": [
    "freqs_cis = precompute_freqs_cis(4, 2)\n",
    "freqs_cis"
   ]
  },
  {
   "cell_type": "code",
   "execution_count": 6,
   "id": "9bb24d18-5ef0-40f7-93bc-7a7fade01894",
   "metadata": {
    "tags": []
   },
   "outputs": [
    {
     "data": {
      "text/plain": [
       "tensor([[[1.0000+0.0000j, 1.0000+0.0000j],\n",
       "         [0.5403+0.8415j, 0.9999+0.0100j]]])"
      ]
     },
     "execution_count": 6,
     "metadata": {},
     "output_type": "execute_result"
    }
   ],
   "source": [
    "freqs_cis = reshape_for_broadcast(freqs_cis, xq_)\n",
    "freqs_cis"
   ]
  },
  {
   "cell_type": "code",
   "execution_count": 7,
   "id": "1faaed8f-df9d-4488-afec-1ae862ed9660",
   "metadata": {
    "tags": []
   },
   "outputs": [
    {
     "data": {
      "text/plain": [
       "tensor([[[ 0.0000+1.0000j,  2.0000+3.0000j],\n",
       "         [-2.0461+6.0674j,  5.9297+7.0596j]]])"
      ]
     },
     "execution_count": 7,
     "metadata": {},
     "output_type": "execute_result"
    }
   ],
   "source": [
    "xq_ * freqs_cis"
   ]
  },
  {
   "cell_type": "code",
   "execution_count": 8,
   "id": "640311c9-f607-48ee-b292-ef49a99de3dd",
   "metadata": {
    "tags": []
   },
   "outputs": [
    {
     "data": {
      "text/plain": [
       "tensor([[[[ 0.0000,  1.0000],\n",
       "          [ 2.0000,  3.0000]],\n",
       "\n",
       "         [[-2.0461,  6.0674],\n",
       "          [ 5.9297,  7.0596]]]])"
      ]
     },
     "execution_count": 8,
     "metadata": {},
     "output_type": "execute_result"
    }
   ],
   "source": [
    "torch.view_as_real(xq_ * freqs_cis)"
   ]
  },
  {
   "cell_type": "code",
   "execution_count": null,
   "id": "f904de14-6a88-44f6-810b-e09e5bb7506d",
   "metadata": {},
   "outputs": [],
   "source": []
  }
 ],
 "metadata": {
  "kernelspec": {
   "display_name": "Python 3 (ipykernel)",
   "language": "python",
   "name": "python3"
  },
  "language_info": {
   "codemirror_mode": {
    "name": "ipython",
    "version": 3
   },
   "file_extension": ".py",
   "mimetype": "text/x-python",
   "name": "python",
   "nbconvert_exporter": "python",
   "pygments_lexer": "ipython3",
   "version": "3.12.2"
  }
 },
 "nbformat": 4,
 "nbformat_minor": 5
}
