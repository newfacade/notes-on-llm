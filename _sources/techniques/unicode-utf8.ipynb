{
 "cells": [
  {
   "cell_type": "markdown",
   "id": "777ea92f-1afa-428c-b297-40cd08886375",
   "metadata": {},
   "source": [
    "# ASCII,UNICODE,UTF8\n",
    "\n",
    "```{note}\n",
    "在计算机中所有信息都是以二进制位0和1来存储的。8个bit位是一个字节，计算机对数据的读取是按照一个字节的大小来读取识别的，那么面对全世界这么多语言，计算机是如何知道当前字节表示的是什么意思呢？ 今天就来了解下字符在计算机中的编码方式，其中会涉及到ASCII 、unicode 、UTF-8等。\n",
    "```"
   ]
  },
  {
   "cell_type": "markdown",
   "id": "a0937f32-3c19-450c-a3f2-c2f7349eda6b",
   "metadata": {},
   "source": [
    "## ASCII\n",
    "\n",
    "首先看下wiki对它的定义：\n",
    "\n",
    "> ASCII abbreviated from American Standard Code for Information Interchange, is a character encoding standard for electronic communication. ASCII codes represent text in computers, telecommunications equipment, and other devices. Most modern character-encoding schemes are based on ASCII, although they support many additional characters.\n",
    "\n",
    "大概就是说ASCII是美国信息交换标准代码，用来表示电脑和其他电信设备的文本。大家都知道电脑所有信息都是以二进制的方式来计算和存储的，那么人们能识别的文字和计算机中的二进制必然存在一种映射关系，ASCII就是最初的一种映射关系，也叫字符集。\n",
    "\n",
    "比如在ASCII中，大写字母A对应的ASCII码是65，二进制就是01000001；阿拉伯数字0对应的ASCII码是48，二进制就是110000；还有空格32、回车13等等一些键盘上所见的符号。\n",
    "\n",
    "ASCII起初只规定了127个字符，就能代表了所有键盘上的普通符号、阿拉伯数字和英文字母。对于英文国家来说能满足日常使用，所以他们把每个字节的第一位置置0，只需要使用后面7位就足够了。\n",
    "\n",
    "但是其他欧洲国家的语言比如法语、葡萄牙语等无法用127个字符表示完全，所以他们就把第一个空闲0使用了起来（8位可表示256个字符）。"
   ]
  },
  {
   "cell_type": "markdown",
   "id": "cf016dd4-20ba-42e1-b538-ceaa2d6b709c",
   "metadata": {},
   "source": [
    "## unicode\n",
    "\n",
    "随着计算机在全球的发展和普及，其他语言，比如说中文、日文，单字节256个字符肯定没法完全表示。所以就出现了一个全球统一的编码规则叫unicode，它的作用是把各个语言的字符映射为二进制，和ASCII的目的一样。\n",
    "\n",
    "unicode当前默认的版本是UCS-2，也就是用定长2个字节来表示字符，6w+的字符量已经足以用于全球主要语言的大多数字符。但是unicode还是提供了一个扩展机制，允许表示一百多万个字符。\n",
    "\n",
    "比如英文字母A对应的unicode是U+0041，转换为十进制是65，转换为二进制是0100 0001，和ASCII码一致，只需要一个字节表示。\n",
    "\n",
    "比如汉字`一`对应的unicode是U+4e00，转换为十进制是19968，转换为二进制是100 1110 0000 0000，这个二进制有15位，需要至少2个字节表示。\n",
    "\n",
    "所以这就出现了一个问题，计算机按照字节来读取数据时，如何知道当前字节就是要表示一个字符还是连续的两个字节表示一个字符？ 如果按照unicode的方式统一用两个字节表示一个字符，那英文字符（只需要一个字节表示，前面全部填充0）的第一字节全是0，对于存储空间是极大的浪费。"
   ]
  },
  {
   "cell_type": "markdown",
   "id": "ca2f9483-a322-4379-baa8-49afa8155ff6",
   "metadata": {},
   "source": [
    "## UTF-8\n",
    "\n",
    "为了解决**如何来表示unicode**这一问题，或者叫**如何让计算机读懂unicode**这一问题，就诞生了UTF-8。它的特点是变长编码，可以使用1-4个字节表示一个字符(unicode)。\n",
    "\n",
    "UTF-8的规则很简单，就是使用控制码+字符码组成，控制码就是告诉计算机当前是单字节还是多字节，字符码就是对应的unicode。\n",
    "\n",
    "规则1：对于单字节的字符，8个bit位中高位必须等于0，这完全等同于127位最初的ASCII码。比如大写字母A，对应的二进制为01000001。\n",
    "\n",
    "规则2：对于需要n个字节的字符\n",
    "\n",
    ">- 第一个字节:\n",
    ">    - 高位前n位为`1`\n",
    ">    - 第n+1位为`0`\n",
    ">- 其他字节：\n",
    ">    - 高位以`10`开头\n",
    ">- 未提及的位使用对应的unicode补充，不足的在高位用0补充\n",
    "\n",
    "\n",
    "unicode和utf-8的映射关系如下：\n",
    "\n",
    "\n",
    "| unicode的字符集范围（十六进制）   |utf-8的编码方式                          | 说明                                |\n",
    "|:-----------------------|:-------------------------------------|:-----------------------------------|\n",
    "| 0000 0000 ～ 0000 007F | 0xxxxxxx                            | 完全兼容ASCII                         |\n",
    "| 0000 0080 ～ 0000 07FF | 110xxxxx 10xxxxxx                   | 110表示需要两个字节表示当前字符，x为字符的unicode二进制 |\n",
    "| 0000 0800 ～ 0000 FFFF | 1110xxxx 10xxxxxx 10xxxxxx          | 1110表示需要三个字节                      |\n",
    "| 0001 0000 ～ 0010 FFFF | 11110xxx 10xxxxxx 10xxxxxx 10xxxxxx | 11110表示需要四个字节                     |\n",
    "**举例1-ASCII**\n",
    "\n",
    "unicode直接兼容了初期ASCII，所以ASCII的字符，无论是ASCII编码还是utf-8编码，都一样。\n",
    "\n",
    "**举例2-中文**\n",
    "\n",
    "以中文`一`来说，`一`对应的unicode字符集是4e00，4e00在0800 ~ FFFF的范围，所以对应的utf-8为三字节。 4e00对应的二进制为100 1110 0000 0000，加上控制码后对应的utf-8为11100100 10111000 10000000，第一个字节的第二个0(斜体)为补充。"
   ]
  },
  {
   "cell_type": "markdown",
   "id": "0d7fcfa9-945d-40f1-ae70-87d09dfb33ee",
   "metadata": {},
   "source": [
    "## UTF-16、UTF-32等\n",
    "\n",
    "上面介绍了文字字符映射为unicode字符集，并且由utf-8来实现编码（如何读取unicode字符集）。其中不止utf-8，还有其他编码方式，比如utf-16,utf-32等。\n",
    "\n",
    "这里简单介绍下这几种编码方式的区别。\n",
    "\n",
    "| 编码类型   | 字节长度 | 说明                          |\n",
    "|:--------|:------|:-----------------------------|\n",
    "| utf-8  | 1-4  | 1-4字节变长                     |\n",
    "| utf-16 | 2-4  | 2或4字节变长，大部分是2字节，对与ASCII空间浪费 |\n",
    "| utf-32 | 4    | 4字节表示，空间极大浪费                |\n"
   ]
  },
  {
   "cell_type": "markdown",
   "id": "aa9d0dfd-2319-4076-83c5-162ed3e953bf",
   "metadata": {},
   "source": [
    "## GB2312、GBK等其他编码\n",
    "\n",
    "在unicode诞生（1990年开始研发）之前，由于ASCII表示的范围有限，各个国家便着手自己国家语言的编码，比如中国1980年发行了gb2312以及后面出现它的扩展版本GBK。\n",
    "\n",
    "gb2312因为只表示普通数字、字母、汉字，不表示其他语言，所以使用两个字节已经足够，但是它和汉字的映射与unicode和汉字的映射没有任何关系。\n",
    "\n",
    "比如汉字一在unicode中对应的字符集是4e00，而在gb2312中对应的字符集是D2BB。"
   ]
  },
  {
   "cell_type": "markdown",
   "id": "e197b8c9-13c6-4277-9a9e-408323031354",
   "metadata": {},
   "source": [
    "## 为什么会乱码\n",
    "\n",
    "知道了编码的原理后自然能想到的就是文本编码和解码所使用的字符集不同。\n",
    "\n",
    "来做一个小实验并且验证下。\n",
    "\n",
    "新建一个html输入：\n",
    "\n",
    "```html\n",
    "<!DOCTYPE html>\n",
    "<html>\n",
    "<head>\n",
    "    <meta charset=\"utf-8\">\n",
    "    <title></title>\n",
    "</head>\n",
    "<body>\n",
    "123abc一二三\n",
    "</body>\n",
    "</html>\n",
    "```\n",
    "\n",
    "浏览器打开后显示正常，然后我们使用chrome的charset插件来修改当前页面解码的字符集，这里修改为GBK：\n",
    "\n",
    "![](../images/gbk.png)\n",
    "\n",
    "修改后显示结果如下：\n",
    "\n",
    "![](../images/luanma.webp)\n",
    "\n",
    "数字和字母都未乱码，说明unicode和GBK都向下兼容了ASCII，而汉字一二三乱码了，我们来查出这几个字对应的utf-8和gbk编码。\n",
    "\n",
    "![](../images/luanma2.png)"
   ]
  },
  {
   "cell_type": "markdown",
   "id": "dd22861a-eadb-4822-bdb3-b248e571425a",
   "metadata": {},
   "source": [
    "## 总结\n",
    "字符集即是文字符号和二进制的一种映射关系。\n",
    "\n",
    "128位ASCII码是数字、英文字母、普通符号的字符集。256位ASCII扩展码是ASCII+欧洲部分语言字母的字符集。\n",
    "\n",
    "GB2312/GBK是ASCII+汉字的字符集，同理还有其他国家的特有字符集。\n",
    "\n",
    "unicode是ASCII+全球绝大部分字符的字符集。为了节省空间，一般不直接使用unicode，而是将它以utf-8的方式来编码解码使用。"
   ]
  },
  {
   "cell_type": "code",
   "execution_count": null,
   "id": "bf6f6ef1-c303-42ec-bf8f-1d7a41c4a92b",
   "metadata": {},
   "outputs": [],
   "source": []
  }
 ],
 "metadata": {
  "kernelspec": {
   "display_name": "Python 3 (ipykernel)",
   "language": "python",
   "name": "python3"
  },
  "language_info": {
   "codemirror_mode": {
    "name": "ipython",
    "version": 3
   },
   "file_extension": ".py",
   "mimetype": "text/x-python",
   "name": "python",
   "nbconvert_exporter": "python",
   "pygments_lexer": "ipython3",
   "version": "3.12.2"
  }
 },
 "nbformat": 4,
 "nbformat_minor": 5
}
