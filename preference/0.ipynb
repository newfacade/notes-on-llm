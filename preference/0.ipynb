{
 "cells": [
  {
   "cell_type": "markdown",
   "id": "263fa4e3-c79a-477d-86b9-65c609e50cb4",
   "metadata": {},
   "source": [
    "# Preference Optimization"
   ]
  },
  {
   "cell_type": "code",
   "execution_count": null,
   "id": "931c4f55-fac8-4bce-92b3-853a3ac2ab31",
   "metadata": {},
   "outputs": [],
   "source": []
  }
 ],
 "metadata": {
  "kernelspec": {
   "display_name": "Python 3 (ipykernel)",
   "language": "python",
   "name": "python3"
  },
  "language_info": {
   "codemirror_mode": {
    "name": "ipython",
    "version": 3
   },
   "file_extension": ".py",
   "mimetype": "text/x-python",
   "name": "python",
   "nbconvert_exporter": "python",
   "pygments_lexer": "ipython3",
   "version": "3.12.2"
  }
 },
 "nbformat": 4,
 "nbformat_minor": 5
}
